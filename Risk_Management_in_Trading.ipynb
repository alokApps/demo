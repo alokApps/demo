{
  "nbformat": 4,
  "nbformat_minor": 0,
  "metadata": {
    "colab": {
      "provenance": []
    },
    "kernelspec": {
      "name": "python3",
      "display_name": "Python 3"
    },
    "language_info": {
      "name": "python"
    }
  },
  "cells": [
    {
      "cell_type": "markdown",
      "source": [
        "# Portfolio Risk Calculation"
      ],
      "metadata": {
        "id": "RRB8f5vzGj9l"
      }
    },
    {
      "cell_type": "markdown",
      "source": [
        "*   Defines a dictionary of stocks with their respective weights in the portfolio.\n",
        "*   Specifies the period for which historical data is required.\n",
        "*   Downloads the historical adjusted closing prices from Yahoo Finance.\n",
        "*   Computes daily returns for each stock and then calculates the daily portfolio returns based on the weights.\n",
        "*   Calculates the mean and standard deviation of the daily portfolio returns.\n",
        "*   Determines the VaR at the specified confidence level using both the percentile method and the parametric method (assuming a normal distribution).\n",
        "*   Prints out the calculated VaR.\n",
        "*   Finally, it plots the cumulative returns of the portfolio over the specified period."
      ],
      "metadata": {
        "id": "hr3F8_auG1lq"
      }
    },
    {
      "cell_type": "code",
      "execution_count": 1,
      "metadata": {
        "id": "CrAK1UMHRojb"
      },
      "outputs": [],
      "source": [
        "import numpy as np\n",
        "import pandas as pd\n",
        "import yfinance as yf\n",
        "from scipy.stats import norm\n",
        "\n"
      ]
    },
    {
      "cell_type": "code",
      "source": [
        "# Define the stocks in our portfolio and their respective weights\n",
        "portfolio_stocks = {\n",
        "    'AAPL': 0.3,  # 30% of the portfolio\n",
        "    'MSFT': 0.2,  # 20% of the portfolio\n",
        "    'GOOG': 0.2,  # 20% of the portfolio\n",
        "    'AMZN': 0.3   # 30% of the portfolio\n",
        "}\n",
        "\n"
      ],
      "metadata": {
        "id": "RK_0xe-MD9oX"
      },
      "execution_count": null,
      "outputs": []
    },
    {
      "cell_type": "code",
      "source": [
        "# Define the time period for historical data\n",
        "start_date = '2020-01-01'\n",
        "end_date = '2023-11-03'\n",
        "\n",
        "# Fetch the historical data from Yahoo Finance\n",
        "data = yf.download(list(portfolio_stocks.keys()), start=start_date, end=end_date)['Adj Close']\n",
        "\n"
      ],
      "metadata": {
        "id": "kyKuIROzD_a3",
        "colab": {
          "base_uri": "https://localhost:8080/"
        },
        "outputId": "b8220b1f-483c-46bc-bdf5-996b63f81a4b"
      },
      "execution_count": null,
      "outputs": [
        {
          "output_type": "stream",
          "name": "stdout",
          "text": [
            "[*********************100%%**********************]  4 of 4 completed\n"
          ]
        }
      ]
    },
    {
      "cell_type": "code",
      "source": [
        "# Calculate daily returns\n",
        "returns = np.log(1+data.pct_change()).dropna()\n",
        "\n"
      ],
      "metadata": {
        "id": "O6jlopEuEDUa"
      },
      "execution_count": null,
      "outputs": []
    },
    {
      "cell_type": "code",
      "source": [
        "# Calculate portfolio returns by multiplying stock returns with their respective weights\n",
        "portfolio_returns = returns.dot(np.array(list(portfolio_stocks.values())))\n",
        "\n"
      ],
      "metadata": {
        "id": "ECbUaBB0EGD_"
      },
      "execution_count": null,
      "outputs": []
    },
    {
      "cell_type": "code",
      "source": [
        "portfolio_returns"
      ],
      "metadata": {
        "colab": {
          "base_uri": "https://localhost:8080/"
        },
        "id": "2rFgHowb7vmX",
        "outputId": "f746250e-8bc9-41a5-cb0a-e2d88197dcd2"
      },
      "execution_count": null,
      "outputs": [
        {
          "output_type": "execute_result",
          "data": {
            "text/plain": [
              "Date\n",
              "2020-01-03   -0.010116\n",
              "2020-01-06    0.010982\n",
              "2020-01-07   -0.003869\n",
              "2020-01-08    0.009530\n",
              "2020-01-09    0.013185\n",
              "                ...   \n",
              "2023-10-27    0.017287\n",
              "2023-10-30    0.021822\n",
              "2023-10-31    0.001410\n",
              "2023-11-01    0.021932\n",
              "2023-11-02    0.011222\n",
              "Length: 966, dtype: float64"
            ]
          },
          "metadata": {},
          "execution_count": 6
        }
      ]
    },
    {
      "cell_type": "code",
      "source": [
        "# Calculate the mean and standard deviation of daily portfolio returns\n",
        "mean_returns = portfolio_returns.mean()\n",
        "sigma_returns = portfolio_returns.std()\n",
        "\n"
      ],
      "metadata": {
        "id": "KbAXYU9cEIuU"
      },
      "execution_count": null,
      "outputs": []
    },
    {
      "cell_type": "code",
      "source": [
        "# Set the confidence level\n",
        "confidence_level = 0.05\n",
        "\n",
        "# Calculate VaR using the percentile method\n",
        "VaR = np.percentile(portfolio_returns, confidence_level * 100)\n",
        "\n"
      ],
      "metadata": {
        "id": "8JR34QavELTt"
      },
      "execution_count": null,
      "outputs": []
    },
    {
      "cell_type": "code",
      "source": [
        "# Calculate VaR using the parametric method (assuming normal distribution)\n",
        "VaR_parametric = norm.ppf(confidence_level, mean_returns, sigma_returns)\n",
        "\n",
        "# Print the results\n",
        "print(f\"Portfolio VaR (percentile method) at {confidence_level * 100}% confidence level: {VaR * 100:.2f}%\")\n",
        "print(f\"Portfolio VaR (parametric method) at {confidence_level * 100}% confidence level: {VaR_parametric * 100:.2f}%\")\n",
        "\n"
      ],
      "metadata": {
        "id": "1ZIdHESeEOYQ",
        "colab": {
          "base_uri": "https://localhost:8080/"
        },
        "outputId": "24240d91-23bc-4176-8fb1-fdc0275b1cb5"
      },
      "execution_count": null,
      "outputs": [
        {
          "output_type": "stream",
          "name": "stdout",
          "text": [
            "Portfolio VaR (percentile method) at 5.0% confidence level: -2.97%\n",
            "Portfolio VaR (parametric method) at 5.0% confidence level: -3.10%\n"
          ]
        }
      ]
    },
    {
      "cell_type": "code",
      "source": [
        "# Plot the portfolio cumulative returns\n",
        "import matplotlib.pyplot as plt\n",
        "\n",
        "cumulative_returns = (1 + portfolio_returns).cumprod() - 1\n",
        "cumulative_returns.plot()\n",
        "plt.title('Portfolio Cumulative Returns')\n",
        "plt.xlabel('Date')\n",
        "plt.ylabel('Cumulative Returns')\n",
        "plt.show()\n"
      ],
      "metadata": {
        "id": "8mhbG9_rEPfk",
        "colab": {
          "base_uri": "https://localhost:8080/",
          "height": 455
        },
        "outputId": "d4f5bba1-963e-421f-87f3-cb329795b202"
      },
      "execution_count": null,
      "outputs": [
        {
          "output_type": "display_data",
          "data": {
            "text/plain": [
              "<Figure size 640x480 with 1 Axes>"
            ],
            "image/png": "[encoded data removed]"
          },
          "metadata": {}
        }
      ]
    },
    {
      "cell_type": "markdown",
      "source": [
        "* In practice, financial returns may not follow a normal distribution, and therefore, using the parametric method with normal distribution assumptions might not be accurate.\n",
        "\n",
        "* In such cases, alternative approaches like Historical Simulation or Monte Carlo Simulation could be employed for a better estimate of VaR."
      ],
      "metadata": {
        "id": "Da7FrrqhIUzx"
      }
    },
    {
      "cell_type": "markdown",
      "source": [
        "* Fetches historical stock data over a two-year period to ensure we have a robust dataset.\n",
        "* Calculates the covariance matrix of the stock returns, which is critical for assessing how the stocks move together.\n",
        "* Runs a Monte Carlo simulation with 10,000 iterations, simulating the portfolio returns for each day over the next trading year (252 days). This creates a distribution of possible ending portfolio values after a year.\n",
        "* Uses this distribution to calculate the 95% VaR and CVaR, giving us the value at risk and the expected shortfall (average of the worst 5% of outcomes).\n",
        "* Visualizes the results with a histogram and lines indicating the VaR and CVaR."
      ],
      "metadata": {
        "id": "X0Y796u8I5eV"
      }
    },
    {
      "cell_type": "code",
      "source": [
        "import numpy as np\n",
        "import pandas as pd\n",
        "import yfinance as yf\n",
        "from scipy.stats import norm\n",
        "import matplotlib.pyplot as plt\n",
        "\n"
      ],
      "metadata": {
        "id": "7LsbdsziRvbm"
      },
      "execution_count": null,
      "outputs": []
    },
    {
      "cell_type": "code",
      "source": [
        "# Define the stocks and their respective weights in our portfolio\n",
        "portfolio_stocks = {\n",
        "    'AAPL': 0.3,\n",
        "    'MSFT': 0.2,\n",
        "    'GOOG': 0.2,\n",
        "    'AMZN': 0.3\n",
        "}\n",
        "\n"
      ],
      "metadata": {
        "id": "wq7ZJDMsETGz"
      },
      "execution_count": null,
      "outputs": []
    },
    {
      "cell_type": "code",
      "source": [
        "# Define the time period for historical data\n",
        "start_date = '2020-01-01'\n",
        "end_date = '2023-11-03'\n",
        "\n",
        "# Fetch the historical data from Yahoo Finance\n",
        "data = yf.download(list(portfolio_stocks.keys()), start=start_date, end=end_date)['Adj Close']\n",
        "\n"
      ],
      "metadata": {
        "id": "UXhqwlC5EUpR",
        "colab": {
          "base_uri": "https://localhost:8080/"
        },
        "outputId": "c757f29a-0220-4ee0-d73d-bbb0fdfff9bb"
      },
      "execution_count": null,
      "outputs": [
        {
          "output_type": "stream",
          "name": "stdout",
          "text": [
            "[*********************100%%**********************]  4 of 4 completed\n"
          ]
        }
      ]
    },
    {
      "cell_type": "code",
      "source": [
        "# Calculate daily returns\n",
        "returns = np.log(1+data.pct_change()).dropna()\n",
        "\n",
        "# Calculate the covariance matrix on daily returns\n",
        "cov_matrix = returns.cov()\n",
        "\n"
      ],
      "metadata": {
        "id": "Zco-pATtEXcX"
      },
      "execution_count": null,
      "outputs": []
    },
    {
      "cell_type": "code",
      "source": [
        "cov_matrix"
      ],
      "metadata": {
        "colab": {
          "base_uri": "https://localhost:8080/",
          "height": 175
        },
        "id": "Xl49QHcs_NF_",
        "outputId": "6c0cbb5e-0c70-423d-e732-ae0f562c8245"
      },
      "execution_count": null,
      "outputs": [
        {
          "output_type": "execute_result",
          "data": {
            "text/plain": [
              "          AAPL      AMZN      GOOG      MSFT\n",
              "AAPL  0.000462  0.000325  0.000319  0.000350\n",
              "AMZN  0.000325  0.000580  0.000347  0.000343\n",
              "GOOG  0.000319  0.000347  0.000456  0.000344\n",
              "MSFT  0.000350  0.000343  0.000344  0.000435"
            ],
            "text/html": [
              "\n",
              "  <div id=\"df-9e3b7ac8-c9f4-4469-abc6-69688be9dcdb\" class=\"colab-df-container\">\n",
              "    <div>\n",
              "<style scoped>\n",
              "    .dataframe tbody tr th:only-of-type {\n",
              "        vertical-align: middle;\n",
              "    }\n",
              "\n",
              "    .dataframe tbody tr th {\n",
              "        vertical-align: top;\n",
              "    }\n",
              "\n",
              "    .dataframe thead th {\n",
              "        text-align: right;\n",
              "    }\n",
              "</style>\n",
              "<table border=\"1\" class=\"dataframe\">\n",
              "  <thead>\n",
              "    <tr style=\"text-align: right;\">\n",
              "      <th></th>\n",
              "      <th>AAPL</th>\n",
              "      <th>AMZN</th>\n",
              "      <th>GOOG</th>\n",
              "      <th>MSFT</th>\n",
              "    </tr>\n",
              "  </thead>\n",
              "  <tbody>\n",
              "    <tr>\n",
              "      <th>AAPL</th>\n",
              "      <td>0.000462</td>\n",
              "      <td>0.000325</td>\n",
              "      <td>0.000319</td>\n",
              "      <td>0.000350</td>\n",
              "    </tr>\n",
              "    <tr>\n",
              "      <th>AMZN</th>\n",
              "      <td>0.000325</td>\n",
              "      <td>0.000580</td>\n",
              "      <td>0.000347</td>\n",
              "      <td>0.000343</td>\n",
              "    </tr>\n",
              "    <tr>\n",
              "      <th>GOOG</th>\n",
              "      <td>0.000319</td>\n",
              "      <td>0.000347</td>\n",
              "      <td>0.000456</td>\n",
              "      <td>0.000344</td>\n",
              "    </tr>\n",
              "    <tr>\n",
              "      <th>MSFT</th>\n",
              "      <td>0.000350</td>\n",
              "      <td>0.000343</td>\n",
              "      <td>0.000344</td>\n",
              "      <td>0.000435</td>\n",
              "    </tr>\n",
              "  </tbody>\n",
              "</table>\n",
              "</div>\n",
              "    <div class=\"colab-df-buttons\">\n",
              "\n",
              "  <div class=\"colab-df-container\">\n",
              "    <button class=\"colab-df-convert\" onclick=\"convertToInteractive('df-9e3b7ac8-c9f4-4469-abc6-69688be9dcdb')\"\n",
              "            title=\"Convert this dataframe to an interactive table.\"\n",
              "            style=\"display:none;\">\n",
              "\n",
              "  <svg xmlns=\"http://www.w3.org/2000/svg\" height=\"24px\" viewBox=\"0 -960 960 960\">\n",
              "    <path d=\"M120-120v-720h720v720H120Zm60-500h600v-160H180v160Zm220 220h160v-160H400v160Zm0 220h160v-160H400v160ZM180-400h160v-160H180v160Zm440 0h160v-160H620v160ZM180-180h160v-160H180v160Zm440 0h160v-160H620v160Z\"/>\n",
              "  </svg>\n",
              "    </button>\n",
              "\n",
              "  <style>\n",
              "    .colab-df-container {\n",
              "      display:flex;\n",
              "      gap: 12px;\n",
              "    }\n",
              "\n",
              "    .colab-df-convert {\n",
              "      background-color: #E8F0FE;\n",
              "      border: none;\n",
              "      border-radius: 50%;\n",
              "      cursor: pointer;\n",
              "      display: none;\n",
              "      fill: #1967D2;\n",
              "      height: 32px;\n",
              "      padding: 0 0 0 0;\n",
              "      width: 32px;\n",
              "    }\n",
              "\n",
              "    .colab-df-convert:hover {\n",
              "      background-color: #E2EBFA;\n",
              "      box-shadow: 0px 1px 2px rgba(60, 64, 67, 0.3), 0px 1px 3px 1px rgba(60, 64, 67, 0.15);\n",
              "      fill: #174EA6;\n",
              "    }\n",
              "\n",
              "    .colab-df-buttons div {\n",
              "      margin-bottom: 4px;\n",
              "    }\n",
              "\n",
              "    [theme=dark] .colab-df-convert {\n",
              "      background-color: #3B4455;\n",
              "      fill: #D2E3FC;\n",
              "    }\n",
              "\n",
              "    [theme=dark] .colab-df-convert:hover {\n",
              "      background-color: #434B5C;\n",
              "      box-shadow: 0px 1px 3px 1px rgba(0, 0, 0, 0.15);\n",
              "      filter: drop-shadow(0px 1px 2px rgba(0, 0, 0, 0.3));\n",
              "      fill: #FFFFFF;\n",
              "    }\n",
              "  </style>\n",
              "\n",
              "    <script>\n",
              "      const buttonEl =\n",
              "        document.querySelector('#df-9e3b7ac8-c9f4-4469-abc6-69688be9dcdb button.colab-df-convert');\n",
              "      buttonEl.style.display =\n",
              "        google.colab.kernel.accessAllowed ? 'block' : 'none';\n",
              "\n",
              "      async function convertToInteractive(key) {\n",
              "        const element = document.querySelector('#df-9e3b7ac8-c9f4-4469-abc6-69688be9dcdb');\n",
              "        const dataTable =\n",
              "          await google.colab.kernel.invokeFunction('convertToInteractive',\n",
              "                                                    [key], {});\n",
              "        if (!dataTable) return;\n",
              "\n",
              "        const docLinkHtml = 'Like what you see? Visit the ' +\n",
              "          '<a target=\"_blank\" href=https://colab.research.google.com/notebooks/data_table.ipynb>data table notebook</a>'\n",
              "          + ' to learn more about interactive tables.';\n",
              "        element.innerHTML = '';\n",
              "        dataTable['output_type'] = 'display_data';\n",
              "        await google.colab.output.renderOutput(dataTable, element);\n",
              "        const docLink = document.createElement('div');\n",
              "        docLink.innerHTML = docLinkHtml;\n",
              "        element.appendChild(docLink);\n",
              "      }\n",
              "    </script>\n",
              "  </div>\n",
              "\n",
              "\n",
              "<div id=\"df-f4c055fb-f9b8-4b50-8456-47fc120ac674\">\n",
              "  <button class=\"colab-df-quickchart\" onclick=\"quickchart('df-f4c055fb-f9b8-4b50-8456-47fc120ac674')\"\n",
              "            title=\"Suggest charts\"\n",
              "            style=\"display:none;\">\n",
              "\n",
              "<svg xmlns=\"http://www.w3.org/2000/svg\" height=\"24px\"viewBox=\"0 0 24 24\"\n",
              "     width=\"24px\">\n",
              "    <g>\n",
              "        <path d=\"M19 3H5c-1.1 0-2 .9-2 2v14c0 1.1.9 2 2 2h14c1.1 0 2-.9 2-2V5c0-1.1-.9-2-2-2zM9 17H7v-7h2v7zm4 0h-2V7h2v10zm4 0h-2v-4h2v4z\"/>\n",
              "    </g>\n",
              "</svg>\n",
              "  </button>\n",
              "\n",
              "<style>\n",
              "  .colab-df-quickchart {\n",
              "      --bg-color: #E8F0FE;\n",
              "      --fill-color: #1967D2;\n",
              "      --hover-bg-color: #E2EBFA;\n",
              "      --hover-fill-color: #174EA6;\n",
              "      --disabled-fill-color: #AAA;\n",
              "      --disabled-bg-color: #DDD;\n",
              "  }\n",
              "\n",
              "  [theme=dark] .colab-df-quickchart {\n",
              "      --bg-color: #3B4455;\n",
              "      --fill-color: #D2E3FC;\n",
              "      --hover-bg-color: #434B5C;\n",
              "      --hover-fill-color: #FFFFFF;\n",
              "      --disabled-bg-color: #3B4455;\n",
              "      --disabled-fill-color: #666;\n",
              "  }\n",
              "\n",
              "  .colab-df-quickchart {\n",
              "    background-color: var(--bg-color);\n",
              "    border: none;\n",
              "    border-radius: 50%;\n",
              "    cursor: pointer;\n",
              "    display: none;\n",
              "    fill: var(--fill-color);\n",
              "    height: 32px;\n",
              "    padding: 0;\n",
              "    width: 32px;\n",
              "  }\n",
              "\n",
              "  .colab-df-quickchart:hover {\n",
              "    background-color: var(--hover-bg-color);\n",
              "    box-shadow: 0 1px 2px rgba(60, 64, 67, 0.3), 0 1px 3px 1px rgba(60, 64, 67, 0.15);\n",
              "    fill: var(--button-hover-fill-color);\n",
              "  }\n",
              "\n",
              "  .colab-df-quickchart-complete:disabled,\n",
              "  .colab-df-quickchart-complete:disabled:hover {\n",
              "    background-color: var(--disabled-bg-color);\n",
              "    fill: var(--disabled-fill-color);\n",
              "    box-shadow: none;\n",
              "  }\n",
              "\n",
              "  .colab-df-spinner {\n",
              "    border: 2px solid var(--fill-color);\n",
              "    border-color: transparent;\n",
              "    border-bottom-color: var(--fill-color);\n",
              "    animation:\n",
              "      spin 1s steps(1) infinite;\n",
              "  }\n",
              "\n",
              "  @keyframes spin {\n",
              "    0% {\n",
              "      border-color: transparent;\n",
              "      border-bottom-color: var(--fill-color);\n",
              "      border-left-color: var(--fill-color);\n",
              "    }\n",
              "    20% {\n",
              "      border-color: transparent;\n",
              "      border-left-color: var(--fill-color);\n",
              "      border-top-color: var(--fill-color);\n",
              "    }\n",
              "    30% {\n",
              "      border-color: transparent;\n",
              "      border-left-color: var(--fill-color);\n",
              "      border-top-color: var(--fill-color);\n",
              "      border-right-color: var(--fill-color);\n",
              "    }\n",
              "    40% {\n",
              "      border-color: transparent;\n",
              "      border-right-color: var(--fill-color);\n",
              "      border-top-color: var(--fill-color);\n",
              "    }\n",
              "    60% {\n",
              "      border-color: transparent;\n",
              "      border-right-color: var(--fill-color);\n",
              "    }\n",
              "    80% {\n",
              "      border-color: transparent;\n",
              "      border-right-color: var(--fill-color);\n",
              "      border-bottom-color: var(--fill-color);\n",
              "    }\n",
              "    90% {\n",
              "      border-color: transparent;\n",
              "      border-bottom-color: var(--fill-color);\n",
              "    }\n",
              "  }\n",
              "</style>\n",
              "\n",
              "  <script>\n",
              "    async function quickchart(key) {\n",
              "      const quickchartButtonEl =\n",
              "        document.querySelector('#' + key + ' button');\n",
              "      quickchartButtonEl.disabled = true;  // To prevent multiple clicks.\n",
              "      quickchartButtonEl.classList.add('colab-df-spinner');\n",
              "      try {\n",
              "        const charts = await google.colab.kernel.invokeFunction(\n",
              "            'suggestCharts', [key], {});\n",
              "      } catch (error) {\n",
              "        console.error('Error during call to suggestCharts:', error);\n",
              "      }\n",
              "      quickchartButtonEl.classList.remove('colab-df-spinner');\n",
              "      quickchartButtonEl.classList.add('colab-df-quickchart-complete');\n",
              "    }\n",
              "    (() => {\n",
              "      let quickchartButtonEl =\n",
              "        document.querySelector('#df-f4c055fb-f9b8-4b50-8456-47fc120ac674 button');\n",
              "      quickchartButtonEl.style.display =\n",
              "        google.colab.kernel.accessAllowed ? 'block' : 'none';\n",
              "    })();\n",
              "  </script>\n",
              "</div>\n",
              "    </div>\n",
              "  </div>\n"
            ]
          },
          "metadata": {},
          "execution_count": 15
        }
      ]
    },
    {
      "cell_type": "code",
      "source": [
        "# Simulate 10,000 potential future portfolio returns using Monte Carlo simulation\n",
        "num_simulations = 10000\n",
        "num_days = 252  # Approximate number of trading days in a year\n",
        "simulated_portfolios = np.zeros(num_simulations)\n",
        "\n"
      ],
      "metadata": {
        "id": "0F4cnyvYEZwm"
      },
      "execution_count": null,
      "outputs": []
    },
    {
      "cell_type": "code",
      "source": [
        "# Assuming 'num_simulations' and 'num_days' are defined earlier\n",
        "# 'portfolio_stocks' should be a dictionary where keys are stock symbols and values are the weights\n",
        "\n",
        "# Convert portfolio weights to a numpy array\n",
        "weights = np.array(list(portfolio_stocks.values()))\n",
        "\n",
        "# Initialize array to store simulated portfolio values\n",
        "simulated_portfolios = np.zeros(num_simulations)\n",
        "\n"
      ],
      "metadata": {
        "id": "E-7AcZgKEcvb"
      },
      "execution_count": null,
      "outputs": []
    },
    {
      "cell_type": "code",
      "source": [
        "for i in range(num_simulations):\n",
        "    # Randomly sample from a normal distribution for each stock\n",
        "    simulated_rets = np.random.multivariate_normal(returns.mean().values, cov_matrix, num_days)\n",
        "\n",
        "    # Calculate the daily portfolio returns by multiplying the simulated returns with the weights\n",
        "    # Here, we sum across the columns (axis=1) after multiplying each day's returns by the weights\n",
        "    daily_portf_returns = np.sum((simulated_rets * weights), axis=1)\n",
        "\n",
        "    # Cumulative sum to simulate the daily returns\n",
        "    simulated_portf_values = np.cumsum(daily_portf_returns)\n",
        "\n",
        "    # Store the final simulated portfolio value\n",
        "    simulated_portfolios[i] = simulated_portf_values[-1]\n",
        "\n",
        "\n"
      ],
      "metadata": {
        "id": "I5y7uCG1EeSp"
      },
      "execution_count": null,
      "outputs": []
    },
    {
      "cell_type": "code",
      "source": [
        "simulated_portfolios"
      ],
      "metadata": {
        "colab": {
          "base_uri": "https://localhost:8080/"
        },
        "id": "_DGPZIZ4BAfH",
        "outputId": "c3099d94-0542-402f-f04f-117f0c0b5f19"
      },
      "execution_count": null,
      "outputs": [
        {
          "output_type": "execute_result",
          "data": {
            "text/plain": [
              "array([ 0.46442676,  0.38986159, -0.29472855, ...,  0.20543079,\n",
              "        0.82153489,  0.25161147])"
            ]
          },
          "metadata": {},
          "execution_count": 19
        }
      ]
    },
    {
      "cell_type": "code",
      "source": [
        "# Calculate VaR and CVaR\n",
        "confidence_level = 0.05\n",
        "VaR_95 = np.percentile(simulated_portfolios, 100 * confidence_level)\n",
        "CVaR_95 = simulated_portfolios[simulated_portfolios <= VaR_95].mean()\n",
        "\n"
      ],
      "metadata": {
        "id": "IuGyMoSbEf2p"
      },
      "execution_count": null,
      "outputs": []
    },
    {
      "cell_type": "code",
      "source": [
        "# Print the results\n",
        "print(f\"Portfolio VaR at {confidence_level * 100}% confidence level: {VaR_95:.2f}\")\n",
        "print(f\"Portfolio CVaR at {confidence_level * 100}% confidence level: {CVaR_95:.2f}\")\n",
        "\n"
      ],
      "metadata": {
        "id": "6_4xwzapEhVN",
        "colab": {
          "base_uri": "https://localhost:8080/"
        },
        "outputId": "1e2b3a12-46c4-4507-a67a-afe157422684"
      },
      "execution_count": null,
      "outputs": [
        {
          "output_type": "stream",
          "name": "stdout",
          "text": [
            "Portfolio VaR at 5.0% confidence level: -0.32\n",
            "Portfolio CVaR at 5.0% confidence level: -0.45\n"
          ]
        }
      ]
    },
    {
      "cell_type": "code",
      "source": [
        "# Plot the distribution of simulated portfolio values\n",
        "plt.hist(simulated_portfolios, bins=50, alpha=0.75)\n",
        "plt.axvline(x=VaR_95, color='r', linestyle='--', label=f'VaR at 95% confidence level: {VaR_95:.2f}')\n",
        "plt.axvline(x=CVaR_95, color='g', linestyle='--', label=f'CVaR at 95% confidence level: {CVaR_95:.2f}')\n",
        "plt.title('Distribution of Simulated Portfolio Values after 1 Year')\n",
        "plt.xlabel('Portfolio Value')\n",
        "plt.ylabel('Frequency')\n",
        "plt.legend()\n",
        "plt.show()\n"
      ],
      "metadata": {
        "id": "HNWkM88lEigA",
        "colab": {
          "base_uri": "https://localhost:8080/",
          "height": 472
        },
        "outputId": "7aad5b76-dec4-431d-9f81-0e17545f56e8"
      },
      "execution_count": null,
      "outputs": [
        {
          "output_type": "display_data",
          "data": {
            "text/plain": [
              "<Figure size 640x480 with 1 Axes>"
            ],
            "image/png": "[encoded data removed]"
          },
          "metadata": {}
        }
      ]
    },
    {
      "cell_type": "markdown",
      "source": [
        "* This method is more advanced and realistic because it accounts for the non-normal distribution of returns and the correlations between different assets.\n",
        "* Monte Carlo simulations can model the uncertainty inherent in financial markets more flexibly than parametric approaches based on the normal distribution assumption."
      ],
      "metadata": {
        "id": "MSc01fboJHgo"
      }
    },
    {
      "cell_type": "markdown",
      "source": [
        "# Real-time Risk Monitoring"
      ],
      "metadata": {
        "id": "85D37ivHJP2V"
      }
    },
    {
      "cell_type": "markdown",
      "source": [
        "* Tracking the performance and exposure of your portfolio and adjusting it dynamically to adhere to your predefined risk parameters.\n",
        "* In a live trading environment, this would involve subscribing to a real-time data feed and executing trades through a broker's API."
      ],
      "metadata": {
        "id": "Bhqunx8cJhZK"
      }
    },
    {
      "cell_type": "code",
      "source": [
        "import yfinance as yf\n",
        "import time\n",
        "import pandas as pd\n",
        "import numpy as np\n",
        "from datetime import datetime\n",
        "\n"
      ],
      "metadata": {
        "id": "qV3vOUffSSne"
      },
      "execution_count": 7,
      "outputs": []
    },
    {
      "cell_type": "code",
      "source": [
        "# Define your portfolio with tickers and their corresponding weights\n",
        "portfolio = {\n",
        "    'AAPL': 0.4,\n",
        "    'MSFT': 0.3,\n",
        "    'GOOG': 0.2,\n",
        "    'AMZN': 0.1\n",
        "}\n",
        "\n",
        "# Set the initial cash investment\n",
        "initial_investment = 1000000  # $1,000,000\n",
        "\n",
        "# Maximum allowed portfolio drop in dollars before triggering risk management action\n",
        "max_drawdown = -50000  # -$50,000\n",
        "\n"
      ],
      "metadata": {
        "id": "51LWExP7EkLi"
      },
      "execution_count": 8,
      "outputs": []
    },
    {
      "cell_type": "code",
      "source": [
        "# Function to calculate the current value of the portfolio\n",
        "def calculate_portfolio_value(prices, weights, investment):\n",
        "    if isinstance(prices, pd.Series):\n",
        "        # If 'prices' is a Series, we'll convert it to a DataFrame\n",
        "        prices = prices.to_frame()\n",
        "\n",
        "    normalized_prices = prices / prices.iloc[0]  # Normalize prices to the initial prices\n",
        "\n",
        "    # Ensure weights is a pandas Series with the same index as the prices columns\n",
        "    weights = pd.Series(weights, index=prices.columns)\n",
        "\n",
        "    # Calculate the dollar allocation per stock at the start\n",
        "    allocation = (weights * investment) / prices.iloc[0]\n",
        "\n",
        "    # Multiply normalized prices with the allocation\n",
        "    position_values = prices.multiply(allocation, axis='columns')  # Element-wise multiplication\n",
        "\n",
        "    # Sum across columns to get the total portfolio value over time\n",
        "    total_position = position_values.sum(axis=1)\n",
        "\n",
        "    return total_position\n",
        "\n",
        "\n"
      ],
      "metadata": {
        "id": "8r0LpyLCElxj"
      },
      "execution_count": 9,
      "outputs": []
    },
    {
      "cell_type": "code",
      "source": [
        "# Simulate real-time risk monitoring\n",
        "try:\n",
        "    print(\"Starting real-time risk monitoring...\")\n",
        "\n",
        "    while True:\n",
        "        # Fetch latest prices for all stocks in the portfolio\n",
        "        data = yf.download(list(portfolio.keys()), period=\"1d\", interval=\"5m\")\n",
        "        latest_prices = data['Close'].dropna()\n",
        "\n",
        "        # Calculate the portfolio's current value\n",
        "        current_portfolio_value = calculate_portfolio_value(latest_prices, pd.Series(portfolio), initial_investment)\n",
        "\n",
        "        # Calculate the portfolio's current drawdown\n",
        "        current_drawdown = current_portfolio_value.iloc[-1] - initial_investment\n",
        "\n",
        "        print(f\"{datetime.now()}: Current Portfolio Value: {current_portfolio_value.iloc[-1]:.2f}\")\n",
        "        print(f\"{datetime.now()}: Current Drawdown: {current_drawdown:.2f}\")\n",
        "\n",
        "        # Check if the drawdown exceeds the maximum allowed drawdown\n",
        "        if current_drawdown < max_drawdown:\n",
        "            print(\"Maximum drawdown limit exceeded. Initiate risk management protocols.\")\n",
        "            # Here you would implement your risk management strategy, e.g.:\n",
        "            # - Reduce position sizes\n",
        "            # - Hedge with options\n",
        "            # - Liquidate positions\n",
        "            # - Alert the user, etc.\n",
        "            # For now, let's just break the loop\n",
        "            break\n",
        "\n",
        "        # Wait for a certain amount of time before fetching new data\n",
        "        # Here it's set to 60 seconds, which means it updates the portfolio value every minute\n",
        "        time.sleep(60)\n",
        "\n",
        "except KeyboardInterrupt:\n",
        "    print(\"Real-time risk monitoring stopped manually.\")\n",
        "\n",
        "# This is just a simulation script. In a real trading environment, you would have more complex risk\n",
        "# management strategies and actions in place, such as dynamic hedging, stop-loss orders, real-time\n",
        "# trade execution, and more.\n"
      ],
      "metadata": {
        "colab": {
          "base_uri": "https://localhost:8080/"
        },
        "id": "7QzeFldO1sb7",
        "outputId": "d470d1af-663a-4f0e-a8ea-777b12a5e9a2"
      },
      "execution_count": 10,
      "outputs": [
        {
          "output_type": "stream",
          "name": "stdout",
          "text": [
            "Starting real-time risk monitoring...\n",
            "[*********************100%%**********************]  4 of 4 completed\n",
            "2023-11-11 10:22:25.575942: Current Portfolio Value: 1017578.13\n",
            "2023-11-11 10:22:25.576627: Current Drawdown: 17578.13\n",
            "[*********************100%%**********************]  4 of 4 completed\n",
            "2023-11-11 10:23:26.301587: Current Portfolio Value: 1017578.13\n",
            "2023-11-11 10:23:26.301688: Current Drawdown: 17578.13\n",
            "Real-time risk monitoring stopped manually.\n"
          ]
        }
      ]
    },
    {
      "cell_type": "code",
      "source": [],
      "metadata": {
        "id": "TIeOacTJO1C5"
      },
      "execution_count": 4,
      "outputs": []
    },
    {
      "cell_type": "code",
      "source": [],
      "metadata": {
        "id": "PUnxk3WrO1QR"
      },
      "execution_count": 4,
      "outputs": []
    },
    {
      "cell_type": "markdown",
      "source": [
        "* It uses a while loop to continuously monitor the portfolio, simulating a real-time environment.\n",
        "* The calculate_portfolio_value function calculates the current value of the portfolio based on the latest prices.\n",
        "* It checks the portfolio against a predefined maximum drawdown threshold and simulates a risk management response if the threshold is exceeded."
      ],
      "metadata": {
        "id": "RqeJXBM1Ju2s"
      }
    },
    {
      "cell_type": "markdown",
      "source": [
        "We will enhance the code to include:\n",
        "\n",
        "* A more sophisticated risk metric calculation (e.g., using exponentially weighted moving averages for volatility).\n",
        "* Predictive signals that might indicate increased risk (like a surge in volume or volatility).\n",
        "* Dynamic risk thresholds based on market conditions.\n",
        "* Simulated stop-loss execution based on individual asset and portfolio-level metrics."
      ],
      "metadata": {
        "id": "7WY-IdW1J5D0"
      }
    },
    {
      "cell_type": "code",
      "source": [
        "import yfinance as yf\n",
        "import time\n",
        "import numpy as np\n",
        "import pandas as pd\n",
        "from datetime import datetime\n",
        "\n"
      ],
      "metadata": {
        "id": "zp4pDS2TT3VT"
      },
      "execution_count": 11,
      "outputs": []
    },
    {
      "cell_type": "code",
      "source": [
        "# Define your portfolio with tickers and their corresponding weights\n",
        "portfolio = {\n",
        "    'AAPL': 0.4,\n",
        "    'MSFT': 0.3,\n",
        "    'GOOG': 0.2,\n",
        "    'AMZN': 0.1\n",
        "}\n",
        "\n"
      ],
      "metadata": {
        "id": "KtkYtF7pEs8r"
      },
      "execution_count": 12,
      "outputs": []
    },
    {
      "cell_type": "code",
      "source": [
        "initial_investment = 1000000  # $1,000,000\n",
        "max_drawdown = -50000  # -$50,000\n",
        "lookback_period = 21  # Look back for 21 days (about a trading month)\n",
        "\n"
      ],
      "metadata": {
        "id": "28iuHAJWEu--"
      },
      "execution_count": 13,
      "outputs": []
    },
    {
      "cell_type": "code",
      "source": [
        "# Risk Metric: Exponentially Weighted Moving Standard Deviation\n",
        "def calculate_risk_metric(data, lookback_period):\n",
        "    # Using lambda to account for trading days (approximating to 0.94 for a half-life of 14 days)\n",
        "    return data.pct_change().ewm(span=lookback_period, adjust=False, min_periods=lookback_period).std()\n",
        "\n"
      ],
      "metadata": {
        "id": "0doPo7cYEw-4"
      },
      "execution_count": 14,
      "outputs": []
    },
    {
      "cell_type": "code",
      "source": [
        "# Simulated real-time monitoring function\n",
        "def monitor_portfolio_risk(portfolio, initial_investment, max_drawdown, lookback_period):\n",
        "    print(\"Starting real-time risk monitoring...\")\n",
        "\n",
        "    # Loop to simulate real-time monitoring\n",
        "    while True:\n",
        "        # Fetch latest prices for all stocks in the portfolio\n",
        "        data = yf.download(list(portfolio.keys()), period=\"1d\", interval=\"5m\")['Close'].dropna()\n",
        "        if data.empty:\n",
        "            continue  # If the data is empty (market might be closed), continue the loop\n",
        "\n",
        "        # Calculate portfolio risk metric\n",
        "        risk_metric = calculate_risk_metric(data, lookback_period)\n",
        "        latest_risk_metric = risk_metric.iloc[-1]\n",
        "        current_portfolio_value = (data.iloc[-1] / data.iloc[0]) * initial_investment\n",
        "\n",
        "        # Check against risk thresholds\n",
        "        thresholds = np.array(list(portfolio.values()))  # Convert to numpy array for comparison\n",
        "\n",
        "        if any(latest_risk_metric.values > thresholds):  # Compare using the values attribute\n",
        "            print(f\"Risk metric exceeded at {datetime.now()}, initiating risk mitigation strategies...\")\n",
        "            # Implement risk mitigation strategies here\n",
        "            # For simulation, we'll just print a message\n",
        "            print(\"Simulating stop-loss...\")\n",
        "            # break here only makes sense if this is within a loop\n",
        "\n",
        "\n",
        "\n",
        "        # Log current portfolio value and risk metric\n",
        "        single_value = current_portfolio_value.iloc[0]\n",
        "        print(f\"{datetime.now()}: Current Portfolio Value: {single_value:.2f}\")\n",
        "        print(f\"{datetime.now()}: Current Risk Metric: {latest_risk_metric}\")\n",
        "\n",
        "        # Delay before next check\n",
        "        time.sleep(60)  # Wait for 60 seconds before the next iteration\n",
        "\n"
      ],
      "metadata": {
        "id": "rcGMTRHmEyUV"
      },
      "execution_count": 15,
      "outputs": []
    },
    {
      "cell_type": "code",
      "source": [
        "# Run the risk monitoring simulation\n",
        "monitor_portfolio_risk(portfolio, initial_investment, max_drawdown, lookback_period)\n"
      ],
      "metadata": {
        "id": "GeGwFSF7E1O0",
        "colab": {
          "base_uri": "https://localhost:8080/",
          "height": 557
        },
        "outputId": "d430fcd9-5fa3-4dad-8cbf-52417694f13c"
      },
      "execution_count": 16,
      "outputs": [
        {
          "output_type": "stream",
          "name": "stdout",
          "text": [
            "Starting real-time risk monitoring...\n",
            "[*********************100%%**********************]  4 of 4 completed\n",
            "2023-11-11 10:33:18.977744: Current Portfolio Value: 1011509.63\n",
            "2023-11-11 10:33:18.977840: Current Risk Metric: AAPL    0.000510\n",
            "AMZN    0.000671\n",
            "GOOG    0.000995\n",
            "MSFT    0.000521\n",
            "Name: 2023-11-10 15:55:00-05:00, dtype: float64\n",
            "[*********************100%%**********************]  4 of 4 completed\n",
            "2023-11-11 10:34:19.724039: Current Portfolio Value: 1011509.63\n",
            "2023-11-11 10:34:19.724125: Current Risk Metric: AAPL    0.000510\n",
            "AMZN    0.000671\n",
            "GOOG    0.000995\n",
            "MSFT    0.000521\n",
            "Name: 2023-11-10 15:55:00-05:00, dtype: float64\n"
          ]
        },
        {
          "output_type": "error",
          "ename": "KeyboardInterrupt",
          "evalue": "ignored",
          "traceback": [
            "\u001b[0;31m---------------------------------------------------------------------------\u001b[0m",
            "\u001b[0;31mKeyboardInterrupt\u001b[0m                         Traceback (most recent call last)",
            "\u001b[0;32m<ipython-input-16-8717f93cf4dc>\u001b[0m in \u001b[0;36m<cell line: 2>\u001b[0;34m()\u001b[0m\n\u001b[1;32m      1\u001b[0m \u001b[0;31m# Run the risk monitoring simulation\u001b[0m\u001b[0;34m\u001b[0m\u001b[0;34m\u001b[0m\u001b[0m\n\u001b[0;32m----> 2\u001b[0;31m \u001b[0mmonitor_portfolio_risk\u001b[0m\u001b[0;34m(\u001b[0m\u001b[0mportfolio\u001b[0m\u001b[0;34m,\u001b[0m \u001b[0minitial_investment\u001b[0m\u001b[0;34m,\u001b[0m \u001b[0mmax_drawdown\u001b[0m\u001b[0;34m,\u001b[0m \u001b[0mlookback_period\u001b[0m\u001b[0;34m)\u001b[0m\u001b[0;34m\u001b[0m\u001b[0;34m\u001b[0m\u001b[0m\n\u001b[0m",
            "\u001b[0;32m<ipython-input-15-92531d644471>\u001b[0m in \u001b[0;36mmonitor_portfolio_risk\u001b[0;34m(portfolio, initial_investment, max_drawdown, lookback_period)\u001b[0m\n\u001b[1;32m     33\u001b[0m \u001b[0;34m\u001b[0m\u001b[0m\n\u001b[1;32m     34\u001b[0m         \u001b[0;31m# Delay before next check\u001b[0m\u001b[0;34m\u001b[0m\u001b[0;34m\u001b[0m\u001b[0m\n\u001b[0;32m---> 35\u001b[0;31m         \u001b[0mtime\u001b[0m\u001b[0;34m.\u001b[0m\u001b[0msleep\u001b[0m\u001b[0;34m(\u001b[0m\u001b[0;36m60\u001b[0m\u001b[0;34m)\u001b[0m  \u001b[0;31m# Wait for 60 seconds before the next iteration\u001b[0m\u001b[0;34m\u001b[0m\u001b[0;34m\u001b[0m\u001b[0m\n\u001b[0m\u001b[1;32m     36\u001b[0m \u001b[0;34m\u001b[0m\u001b[0m\n",
            "\u001b[0;31mKeyboardInterrupt\u001b[0m: "
          ]
        }
      ]
    },
    {
      "cell_type": "markdown",
      "source": [
        "* Risk Metric: Uses the exponentially weighted moving standard deviation to assess risk over time, which gives a more reactive measure of risk that puts more weight on recent movements.\n",
        "* Predictive Signals: Although not fully implemented due to limitations with Yahoo Finance, placeholders for logic have been added that can assess risk based on patterns in volume or volatility.\n",
        "* Dynamic Risk Thresholds: The thresholds could be adapted based on the volatility of the market, though the exact implementation will depend on the trading strategy and risk appetite.\n",
        "* Simulated Execution: A placeholder for stop-loss execution has been added. This is where you'd typically interface with a broker API to execute trades based on risk assessment.\n",
        "\n",
        "* Real-time risk monitoring for algorithmic trading would involve complex infrastructure, including direct market access, low-latency execution systems, sophisticated risk models, and possibly machine learning algorithms to adapt to market conditions.\n",
        "* This code is intended for educational purposes to illustrate some of the logic and considerations involved in designing such a system."
      ],
      "metadata": {
        "id": "54VEioNZKIQ7"
      }
    },
    {
      "cell_type": "markdown",
      "source": [
        "# Automated Risk-Based Order Sizing"
      ],
      "metadata": {
        "id": "fwDTPGL9KkVn"
      }
    },
    {
      "cell_type": "code",
      "source": [
        "import yfinance as yf\n",
        "import pandas as pd\n",
        "import numpy as np\n",
        "\n"
      ],
      "metadata": {
        "id": "lmIUbP1zVCRh"
      },
      "execution_count": 17,
      "outputs": []
    },
    {
      "cell_type": "markdown",
      "source": [
        "* Technique that involves adjusting the size of your trades based on the level of risk you're willing to take on a particular trade, often defined by the amount of capital you are willing to risk."
      ],
      "metadata": {
        "id": "yglFgaoVNVeX"
      }
    },
    {
      "cell_type": "markdown",
      "source": [
        "* Risk per trade: 1% of total capital.\n",
        "* Position size is based on volatility. We use the Average True Range (ATR) as a measure of volatility.\n",
        "* The maximum risk for each position is calculated by multiplying the ATR with a certain factor."
      ],
      "metadata": {
        "id": "QR75VJ47ren6"
      }
    },
    {
      "cell_type": "markdown",
      "source": [
        "* We define a calculate_order_size function that computes how much capital to allocate to a new position based on the current ATR value, the account's equity, the risk per trade, and an ATR multiplier that defines your risk preference.\n",
        "* We use ACCOUNT_EQUITY to represent the total capital available for trading and RISK_PER_TRADE to represent the maximum amount of capital to risk on any single trade."
      ],
      "metadata": {
        "id": "dyUSKPwCrucD"
      }
    },
    {
      "cell_type": "code",
      "source": [
        "# Function to get historical data\n",
        "def get_data(ticker, period=\"1y\", interval=\"1d\"):\n",
        "    data = yf.download(ticker, period=period, interval=interval)\n",
        "    return data\n",
        "\n"
      ],
      "metadata": {
        "id": "jMlhmCt1E2rc"
      },
      "execution_count": 18,
      "outputs": []
    },
    {
      "cell_type": "code",
      "source": [
        "# Function to calculate ATR\n",
        "def calculate_atr(data, period=14):\n",
        "    high_low = data['High'] - data['Low'] # Current Day's High minus Low\n",
        "    high_close = np.abs(data['High'] - data['Close'].shift()) # Todays High minus previous Close\n",
        "    low_close = np.abs(data['Low'] - data['Close'].shift()) # Today's Low minus previous close\n",
        "    ranges = pd.concat([high_low, high_close, low_close], axis=1)\n",
        "    true_range = np.max(ranges, axis=1)\n",
        "    atr = true_range.rolling(period).mean()\n",
        "    return atr\n",
        "\n"
      ],
      "metadata": {
        "id": "uSlQprAFE4nM"
      },
      "execution_count": 19,
      "outputs": []
    },
    {
      "cell_type": "code",
      "source": [
        "# Function to calculate the risk-based order size\n",
        "def calculate_order_size(data, atr, risk_per_trade, account_equity, atr_multiplier=1):\n",
        "    risk_per_share = atr * atr_multiplier\n",
        "    shares_to_buy = risk_per_trade / risk_per_share\n",
        "    order_size = shares_to_buy * data['Close'].iloc[-1]\n",
        "    return min(order_size, account_equity)  # Ensure we do not spend more than we have\n",
        "\n"
      ],
      "metadata": {
        "id": "eKv-M8iGE6ZG"
      },
      "execution_count": 20,
      "outputs": []
    },
    {
      "cell_type": "code",
      "source": [
        "# Constants\n",
        "TICKER = \"AAPL\"\n",
        "ACCOUNT_EQUITY = 10000  # Example account equity ($10,000)\n",
        "RISK_PER_TRADE = 0.01 * ACCOUNT_EQUITY  # 1% of account equity per trade\n",
        "ATR_PERIOD = 14\n",
        "ATR_MULTIPLIER = 2  # This can be adjusted based on your risk preference\n",
        "\n"
      ],
      "metadata": {
        "id": "11Vp1dwmE714"
      },
      "execution_count": 24,
      "outputs": []
    },
    {
      "cell_type": "code",
      "source": [
        "# Main process\n",
        "if __name__ == \"__main__\":\n",
        "    # Fetch historical data\n",
        "    data = get_data(TICKER)\n",
        "\n",
        "    # Calculate ATR\n",
        "    atr = calculate_atr(data, period=ATR_PERIOD)\n",
        "\n",
        "    # Calculate risk-based order size\n",
        "    order_size = calculate_order_size(data, atr.iloc[-1], RISK_PER_TRADE, ACCOUNT_EQUITY, ATR_MULTIPLIER)\n",
        "    print(f\"Order size for {TICKER}: {order_size:.2f} USD\")\n"
      ],
      "metadata": {
        "id": "YVhXtIv4E9kn",
        "colab": {
          "base_uri": "https://localhost:8080/"
        },
        "outputId": "b7325acb-eacb-457f-8d34-2faedbe5e61a"
      },
      "execution_count": 25,
      "outputs": [
        {
          "output_type": "stream",
          "name": "stdout",
          "text": [
            "\r[*********************100%%**********************]  1 of 1 completed\n",
            "Order size for AAPL: 2838.99 USD\n"
          ]
        }
      ]
    },
    {
      "cell_type": "code",
      "source": [
        "atr"
      ],
      "metadata": {
        "colab": {
          "base_uri": "https://localhost:8080/"
        },
        "id": "QKTtfIikAmQu",
        "outputId": "a96e049e-a5ed-4c0a-e1cc-27f405d46fda"
      },
      "execution_count": 23,
      "outputs": [
        {
          "output_type": "execute_result",
          "data": {
            "text/plain": [
              "Date\n",
              "2022-11-11         NaN\n",
              "2022-11-14         NaN\n",
              "2022-11-15         NaN\n",
              "2022-11-16         NaN\n",
              "2022-11-17         NaN\n",
              "                ...   \n",
              "2023-11-06    3.298572\n",
              "2023-11-07    3.370001\n",
              "2023-11-08    3.313572\n",
              "2023-11-09    3.277143\n",
              "2023-11-10    3.282858\n",
              "Length: 251, dtype: float64"
            ]
          },
          "metadata": {},
          "execution_count": 23
        }
      ]
    },
    {
      "cell_type": "markdown",
      "source": [
        "* Dynamic risk adjustment based on portfolio volatility.\n",
        "* Adjustments for correlation to existing portfolio holdings.\n",
        "* Incorporation of Value at Risk (VaR) and Conditional Value at Risk (CVaR) as additional risk measures.\n",
        "* A function to simulate the impact of the new position on the portfolio risk profile."
      ],
      "metadata": {
        "id": "vPBttEtesMcC"
      }
    },
    {
      "cell_type": "markdown",
      "source": [
        "* Fetches historical data for both the new asset and existing portfolio assets.\n",
        "* Calculates the ATR of the new asset for risk per share.\n",
        "* Determines the number of shares to buy based on ATR and predefined risk per trade.\n",
        "* Calculates the Value at Risk (VaR) and Conditional Value at Risk (CVaR) of the existing portfolio.\n",
        "* Simulates the addition of the new asset to the portfolio and calculates the impact on the portfolio's VaR and CVaR.\n",
        "* Provides a decision-making process based on the change in risk metrics."
      ],
      "metadata": {
        "id": "6oBzjtB5sYeB"
      }
    },
    {
      "cell_type": "code",
      "source": [
        "import yfinance as yf\n",
        "import pandas as pd\n",
        "import numpy as np\n",
        "from scipy.stats import norm\n",
        "\n"
      ],
      "metadata": {
        "id": "PltT2TG8Xeex"
      },
      "execution_count": 26,
      "outputs": []
    },
    {
      "cell_type": "code",
      "source": [
        "# Constants\n",
        "TICKER = \"AAPL\"\n",
        "ACCOUNT_EQUITY = 10000  # Example account equity\n",
        "RISK_PER_TRADE = 0.01  # 1% Risk per trade\n",
        "ATR_PERIOD = 14\n",
        "ATR_MULTIPLIER = 3  # More conservative multiplier\n",
        "PORTFOLIO_TICKERS = ['MSFT', 'GOOG', 'AMZN']  # Existing portfolio\n",
        "\n"
      ],
      "metadata": {
        "id": "jcNKXR2GE-yj"
      },
      "execution_count": 27,
      "outputs": []
    },
    {
      "cell_type": "code",
      "source": [
        "# Fetch historical data\n",
        "def get_data(tickers, period=\"1y\", interval=\"1d\"):\n",
        "    return yf.download(tickers, period=period, interval=interval)['Adj Close']\n",
        "\n"
      ],
      "metadata": {
        "id": "4Z0cR6xWFAYS"
      },
      "execution_count": 28,
      "outputs": []
    },
    {
      "cell_type": "code",
      "source": [
        "# Calculate ATR\n",
        "def calculate_atr(data, period=14):\n",
        "    high_low = data['High'] - data['Low']\n",
        "    high_close = np.abs(data['High'] - data['Close'].shift())\n",
        "    low_close = np.abs(data['Low'] - data['Close'].shift())\n",
        "    ranges = pd.concat([high_low, high_close, low_close], axis=1)\n",
        "    true_range = np.max(ranges, axis=1)\n",
        "    atr = true_range.rolling(period).mean()\n",
        "    return atr\n",
        "\n"
      ],
      "metadata": {
        "id": "Hnm2VtZTFDsC"
      },
      "execution_count": 29,
      "outputs": []
    },
    {
      "cell_type": "code",
      "source": [
        "def calculate_var_cvar(portfolio_returns, confidence_level=0.95):\n",
        "    # Assuming portfolio_returns is a Series\n",
        "    mean_return = portfolio_returns.mean()\n",
        "    std_return = portfolio_returns.std()\n",
        "    var = norm.ppf(1 - confidence_level) * std_return + mean_return\n",
        "    cvar = (1 / (1 - confidence_level)) * norm.pdf(norm.ppf(1 - confidence_level)) * std_return - mean_return\n",
        "    return var, cvar  # These should be scalar values\n",
        "\n"
      ],
      "metadata": {
        "id": "2jC15RSGFFzi"
      },
      "execution_count": 30,
      "outputs": []
    },
    {
      "cell_type": "code",
      "source": [
        "# Simulate the addition of a new position and its effect on portfolio risk\n",
        "def simulate_new_position(portfolio_data, new_asset_data, new_asset_weight):\n",
        "    combined_portfolio = pd.concat([portfolio_data, new_asset_data], axis=1)\n",
        "    combined_portfolio_returns = combined_portfolio.pct_change().dropna()\n",
        "\n",
        "    # Calculate new portfolio VaR and CVaR\n",
        "    portfolio_var, portfolio_cvar = calculate_var_cvar(combined_portfolio_returns)\n",
        "\n",
        "    return portfolio_var, portfolio_cvar\n",
        "\n"
      ],
      "metadata": {
        "id": "zdsqKj6GFIDh"
      },
      "execution_count": 31,
      "outputs": []
    },
    {
      "cell_type": "code",
      "source": [
        "# Calculate risk-based order size\n",
        "def calculate_order_size(ticker, data, atr, account_equity, atr_multiplier=1):\n",
        "    risk_amount = account_equity * RISK_PER_TRADE\n",
        "    risk_per_share = atr * atr_multiplier\n",
        "    shares_to_buy = risk_amount / risk_per_share\n",
        "    return shares_to_buy\n",
        "\n"
      ],
      "metadata": {
        "id": "kry5GvOrFJ_i"
      },
      "execution_count": 32,
      "outputs": []
    },
    {
      "cell_type": "code",
      "source": [
        "if __name__ == \"__main__\":\n",
        "    # Fetch historical data\n",
        "    data = get_data([TICKER] + PORTFOLIO_TICKERS)\n",
        "\n",
        "    # Calculate ATR for the target stock\n",
        "    stock_data = yf.download(TICKER,period=\"1y\", interval=\"1d\")\n",
        "    atr = calculate_atr(stock_data, ATR_PERIOD).iloc[-1]\n",
        "\n",
        "    # Calculate current portfolio data\n",
        "    portfolio_data = data[PORTFOLIO_TICKERS]\n",
        "    portfolio_returns = portfolio_data.pct_change().dropna()\n",
        "\n",
        "    # Calculate VaR and CVaR for current portfolio\n",
        "    current_var, current_cvar = calculate_var_cvar(portfolio_returns)\n",
        "\n",
        "    # Get the last price of the stock\n",
        "    last_price = stock_data['Close'].iloc[-1]\n",
        "\n",
        "    # Calculate order size based on ATR\n",
        "    shares_to_buy = calculate_order_size(TICKER, data, atr, ACCOUNT_EQUITY, ATR_MULTIPLIER)\n",
        "\n",
        "    # Calculate the new position's weight\n",
        "    new_asset_weight = (last_price * shares_to_buy) / ACCOUNT_EQUITY\n",
        "\n",
        "    # Simulate the new position's effect on portfolio risk\n",
        "    new_asset_data = stock_data['Adj Close']\n",
        "    new_portfolio_var, new_portfolio_cvar = simulate_new_position(portfolio_data, new_asset_data, new_asset_weight)\n",
        "\n",
        "    # Output the results\n",
        "    print(f\"Order size for {TICKER}: {shares_to_buy:.2f} shares\")\n",
        "    # Print each item in the series with its index\n",
        "    for index, value in current_var.iteritems():\n",
        "        print(f\"VaR for {index}: {value:.2f}\")\n",
        "    for index, value in new_portfolio_var.iteritems():\n",
        "        print(f\"VaR for {index}: {value:.2f}\")\n",
        "\n",
        "    # Here we could include a decision-making process\n",
        "    # For example, if the new VaR is within acceptable limits, execute the order\n"
      ],
      "metadata": {
        "id": "lTRXEEwKFLIi",
        "colab": {
          "base_uri": "https://localhost:8080/"
        },
        "outputId": "85eb7c71-9fd8-4eaf-c7e5-834c5d8d9a47"
      },
      "execution_count": 33,
      "outputs": [
        {
          "output_type": "stream",
          "name": "stdout",
          "text": [
            "[*********************100%%**********************]  4 of 4 completed\n",
            "[*********************100%%**********************]  1 of 1 completed\n",
            "Order size for AAPL: 10.15 shares\n",
            "VaR for MSFT: -0.03\n",
            "VaR for GOOG: -0.03\n",
            "VaR for AMZN: -0.03\n",
            "VaR for MSFT: -0.03\n",
            "VaR for GOOG: -0.03\n",
            "VaR for AMZN: -0.03\n",
            "VaR for Adj Close: -0.02\n"
          ]
        },
        {
          "output_type": "stream",
          "name": "stderr",
          "text": [
            "<ipython-input-33-bdc3d6016a33>:32: FutureWarning: iteritems is deprecated and will be removed in a future version. Use .items instead.\n",
            "  for index, value in current_var.iteritems():\n",
            "<ipython-input-33-bdc3d6016a33>:34: FutureWarning: iteritems is deprecated and will be removed in a future version. Use .items instead.\n",
            "  for index, value in new_portfolio_var.iteritems():\n"
          ]
        }
      ]
    },
    {
      "cell_type": "markdown",
      "source": [
        "# Stress Testing and Scenario Analysis"
      ],
      "metadata": {
        "id": "hS1ry5fdsvBa"
      }
    },
    {
      "cell_type": "markdown",
      "source": [
        "* Define a set of stress scenarios.\n",
        "* Apply the scenarios to the historical data to see the impact.\n",
        "* Evaluate the portfolio's performance under these scenarios."
      ],
      "metadata": {
        "id": "yoLNt2HMs0J8"
      }
    },
    {
      "cell_type": "code",
      "source": [
        "import yfinance as yf\n",
        "import numpy as np\n",
        "import pandas as pd\n",
        "from datetime import datetime\n",
        "\n"
      ],
      "metadata": {
        "id": "kBHs7siMZc3t"
      },
      "execution_count": null,
      "outputs": []
    },
    {
      "cell_type": "code",
      "source": [
        "# Define the tickers we are interested in\n",
        "tickers = [\"AAPL\", \"MSFT\", \"GOOG\", \"AMZN\"]\n",
        "\n",
        "# Fetch historical data from Yahoo Finance\n",
        "start_date = \"2020-01-01\"\n",
        "end_date = datetime.now().strftime(\"%Y-%m-%d\")\n",
        "data = yf.download(tickers, start=start_date, end=end_date)['Adj Close']\n",
        "\n",
        "# Calculate daily returns\n",
        "returns = data.pct_change().dropna()\n",
        "\n",
        "# Define a portfolio, evenly distributed across our assets\n",
        "portfolio_weights = np.array([1/len(tickers)] * len(tickers))\n",
        "\n",
        "# Calculate portfolio returns\n",
        "portfolio_returns = returns.dot(portfolio_weights)\n",
        "\n"
      ],
      "metadata": {
        "id": "cGHfzwZfFOw1",
        "colab": {
          "base_uri": "https://localhost:8080/"
        },
        "outputId": "be6d50e0-4b51-4e2c-ffa5-bddbd98d35cc"
      },
      "execution_count": null,
      "outputs": [
        {
          "output_type": "stream",
          "name": "stdout",
          "text": [
            "[*********************100%%**********************]  4 of 4 completed\n"
          ]
        }
      ]
    },
    {
      "cell_type": "code",
      "source": [
        "# Stress scenarios (e.g., market crash, interest rate spike)\n",
        "# Scenarios are defined as a dictionary with {name: returns_multiplier}\n",
        "scenarios = {\n",
        "    'Market Crash': 0.5,  # 50% reduction in asset prices\n",
        "    'Interest Rate Hike': -0.05,  # 5% decrease in prices due to interest rates\n",
        "    'Tech Bubble Burst': {'AAPL': -0.3, 'MSFT': -0.25, 'GOOG': -0.4, 'AMZN': -0.35}  # Tech-specific crash\n",
        "}\n",
        "\n"
      ],
      "metadata": {
        "id": "-yjqadpoFRSV"
      },
      "execution_count": null,
      "outputs": []
    },
    {
      "cell_type": "code",
      "source": [
        "# Function to apply stress scenario to portfolio returns\n",
        "def apply_stress_scenario(returns, scenario, tickers):\n",
        "    stressed_returns = returns.copy()\n",
        "    if isinstance(scenario, dict):\n",
        "        # Apply stress scenario to each asset\n",
        "        for ticker, multiplier in scenario.items():\n",
        "            stressed_returns[ticker] *= (1 + multiplier)\n",
        "    else:\n",
        "        stressed_returns *= scenario\n",
        "    return stressed_returns\n",
        "\n"
      ],
      "metadata": {
        "id": "tuZktADDFSwp"
      },
      "execution_count": null,
      "outputs": []
    },
    {
      "cell_type": "code",
      "source": [
        "# Apply each scenario and calculate stressed portfolio value\n",
        "initial_investment = 100000  # Initial portfolio investment\n",
        "stressed_portfolio_values = {}\n",
        "\n",
        "for name, scenario in scenarios.items():\n",
        "    stressed_returns = apply_stress_scenario(returns, scenario, tickers)\n",
        "    stressed_portfolio_returns = stressed_returns.dot(portfolio_weights)\n",
        "    stressed_portfolio_values[name] = (stressed_portfolio_returns + 1).cumprod() * initial_investment\n",
        "\n"
      ],
      "metadata": {
        "id": "rHnUA_4kFUXp"
      },
      "execution_count": null,
      "outputs": []
    },
    {
      "cell_type": "code",
      "source": [
        "# Convert the results to a DataFrame for easy viewing\n",
        "stressed_portfolio_values_df = pd.DataFrame(stressed_portfolio_values)\n",
        "\n"
      ],
      "metadata": {
        "id": "GrOW95hTFWNl"
      },
      "execution_count": null,
      "outputs": []
    },
    {
      "cell_type": "code",
      "source": [
        "# Visualizing the scenario analysis\n",
        "import matplotlib.pyplot as plt\n",
        "\n",
        "plt.figure(figsize=(14, 7))\n",
        "for scenario in stressed_portfolio_values:\n",
        "    plt.plot(stressed_portfolio_values_df[scenario], label=scenario)\n",
        "plt.title('Stress Testing and Scenario Analysis')\n",
        "plt.xlabel('Date')\n",
        "plt.ylabel('Portfolio Value')\n",
        "plt.legend()\n",
        "plt.show()\n"
      ],
      "metadata": {
        "id": "lmnza_PqFX9T",
        "colab": {
          "base_uri": "https://localhost:8080/",
          "height": 641
        },
        "outputId": "6ac3ed0b-d926-45c7-a483-95589c3cefac"
      },
      "execution_count": null,
      "outputs": [
        {
          "output_type": "display_data",
          "data": {
            "text/plain": [
              "<Figure size 1400x700 with 1 Axes>"
            ],
            "image/png": "[encoded data removed]"
          },
          "metadata": {}
        }
      ]
    },
    {
      "cell_type": "markdown",
      "source": [
        "# Advanced Stress Test Scenarios"
      ],
      "metadata": {
        "id": "ZvAPtQh_tBLg"
      }
    },
    {
      "cell_type": "markdown",
      "source": [
        "* Multi-factor stress scenarios: Stress scenarios might impact various factors like volatility, interest rates, and specific sector performance. These would be reflected in the covariance matrix and mean returns vector used for portfolio simulations.\n",
        "\n",
        "* Time-varying correlations: Under stress conditions, asset correlations may change. Advanced models might incorporate time-varying correlations that can be estimated from historical periods of stress.\n",
        "\n",
        "* Monte Carlo simulations: To capture the range of possible outcomes under stress scenarios, we can use Monte Carlo simulations to estimate the distribution of portfolio returns.\n",
        "\n",
        "* Leverage and liquidation triggers: Adding in leverage and potential liquidation triggers can show how a portfolio might be forced to unwind positions in adverse conditions.\n",
        "\n",
        "* Regime-switching models: To account for different market regimes (e.g., high volatility vs. low volatility periods), regime-switching models could be employed.\n",
        "\n",
        "* Tail risk measures: Use of Expected Shortfall (CVaR) and higher moments of distribution (skewness, kurtosis) to assess the tail risk under stress scenarios.\n",
        "\n",
        "* Liquidity adjustments: Incorporating the cost of liquidation or changes in bid-ask spread under stress.\n",
        "\n",
        "* Advanced stress testing often requires a deep understanding of the trading strategy and the specific risk factors that affect it."
      ],
      "metadata": {
        "id": "cAjjzAeStEnc"
      }
    },
    {
      "cell_type": "markdown",
      "source": [
        "* Non-Linear Models: Incorporate non-linear models like GARCH (Generalized Autoregressive Conditional Heteroskedasticity) to model volatility clustering and potential fat tails in the distribution of asset returns.\n",
        "\n",
        "* Extreme Value Theory (EVT): Use EVT to model the tails of the distribution better and assess the impact of extreme but plausible scenarios.\n",
        "\n",
        "* Historical Scenario Stress Tests: Use historical crises periods (e.g., the 2008 financial crisis, the dot-com bubble burst) as the basis for stress scenarios.\n",
        "\n",
        "* Machine Learning Techniques: Use machine learning to identify non-linear relationships between market factors and portfolio performance.\n",
        "\n",
        "* Liquidity Adjustment: Incorporate liquidity metrics into stress tests, adjusting for the impact of large trades on the market price (market impact).\n",
        "\n",
        "* Counterparty Risk: In strategies that involve leverage or derivatives, factor in the risk of counterparty default under stress conditions.\n",
        "\n",
        "* Regulatory Constraints and Capital Requirements: Include regulatory capital requirements in the simulation to assess the potential for regulatory-driven selling.\n",
        "\n",
        "* Stochastic Processes: Incorporate more advanced stochastic processes to simulate price paths, like Levy processes or jump-diffusion models."
      ],
      "metadata": {
        "id": "E8ORRoK_teRP"
      }
    },
    {
      "cell_type": "code",
      "source": [
        "import yfinance as yf\n",
        "import numpy as np\n",
        "import pandas as pd\n",
        "import matplotlib.pyplot as plt\n",
        "from scipy.stats import norm\n",
        "from datetime import datetime\n",
        "\n"
      ],
      "metadata": {
        "id": "mW_cPCKza4z1"
      },
      "execution_count": null,
      "outputs": []
    },
    {
      "cell_type": "code",
      "source": [
        "# Fetch data\n",
        "tickers = [\"AAPL\", \"MSFT\", \"GOOG\", \"AMZN\"]\n",
        "start_date = \"2020-01-01\"\n",
        "end_date = datetime.now().strftime(\"%Y-%m-%d\")\n",
        "data = yf.download(tickers, start=start_date, end=end_date)['Adj Close']\n",
        "\n"
      ],
      "metadata": {
        "id": "7XZwulPHFaMq",
        "colab": {
          "base_uri": "https://localhost:8080/"
        },
        "outputId": "c6fe8701-4aaf-499a-b3a0-e2c264a24e26"
      },
      "execution_count": null,
      "outputs": [
        {
          "output_type": "stream",
          "name": "stdout",
          "text": [
            "[*********************100%%**********************]  4 of 4 completed\n"
          ]
        }
      ]
    },
    {
      "cell_type": "code",
      "source": [
        "# Calculate returns\n",
        "returns = data.pct_change().dropna()\n",
        "\n"
      ],
      "metadata": {
        "id": "G8DtwxLPFb0i"
      },
      "execution_count": null,
      "outputs": []
    },
    {
      "cell_type": "code",
      "source": [
        "# Portfolio setup\n",
        "weights = np.array([0.25, 0.25, 0.25, 0.25])  # Evenly distributed for simplicity\n",
        "initial_investment = 1000000\n",
        "\n"
      ],
      "metadata": {
        "id": "DS_p1sdjFetd"
      },
      "execution_count": null,
      "outputs": []
    },
    {
      "cell_type": "code",
      "source": [
        "# Monte Carlo simulation parameters\n",
        "simulations = 1000\n",
        "time_horizon = 252  # Days\n",
        "\n",
        "# EWMA parameters\n",
        "lambda_ = 0.94\n",
        "\n"
      ],
      "metadata": {
        "id": "YqWSkPJeFhEs"
      },
      "execution_count": null,
      "outputs": []
    },
    {
      "cell_type": "code",
      "source": [
        "# Calculate the exponentially weighted covariance matrix\n",
        "cov_matrix_ewma = returns.ewm(alpha=(1-lambda_), adjust=False).cov().iloc[-len(tickers):].values\n",
        "\n",
        "# Make sure it's reshaped properly for a square matrix\n",
        "cov_matrix_ewma = cov_matrix_ewma.reshape(len(tickers), len(tickers))\n",
        "\n",
        "\n"
      ],
      "metadata": {
        "id": "vANqVcU2Fjcl"
      },
      "execution_count": null,
      "outputs": []
    },
    {
      "cell_type": "code",
      "source": [
        "# Scenarios\n",
        "stress_factor = {\n",
        "    'Market Crash': 0.5,  # Market loses half its value\n",
        "    'Interest Rate Hike': -0.05  # Prices drop by 5%\n",
        "}\n",
        "scenarios = ['Market Crash', 'Interest Rate Hike']\n",
        "\n"
      ],
      "metadata": {
        "id": "y7t3fVfjFk8W"
      },
      "execution_count": null,
      "outputs": []
    },
    {
      "cell_type": "code",
      "source": [
        "def monte_carlo_simulation(returns, cov_matrix, weights, initial_investment, simulations, time_horizon):\n",
        "    results = np.zeros((simulations, time_horizon))\n",
        "    mean_returns = returns.mean()\n",
        "\n",
        "    for i in range(simulations):\n",
        "        # Generate random price paths\n",
        "        rand_rets = np.random.multivariate_normal(mean_returns, cov_matrix, time_horizon)\n",
        "        cum_returns = np.cumprod(1 + rand_rets, axis=0)\n",
        "        portfolio_value = (cum_returns * weights * initial_investment).sum(axis=1)\n",
        "        results[i] = portfolio_value\n",
        "\n",
        "    return results\n",
        "\n"
      ],
      "metadata": {
        "id": "jWNcYBN9FnEN"
      },
      "execution_count": null,
      "outputs": []
    },
    {
      "cell_type": "code",
      "source": [
        "# Plotting the scenario\n",
        "plt.figure(figsize=(14, 7))\n",
        "\n",
        "for scenario in scenarios:\n",
        "    # Adjust mean returns for the scenario\n",
        "    adj_returns = returns.copy()\n",
        "    if scenario in stress_factor:\n",
        "        adj_returns *= stress_factor[scenario]\n",
        "\n",
        "    # Run the Monte Carlo simulation\n",
        "    mc_results = monte_carlo_simulation(adj_returns, cov_matrix_ewma, weights, initial_investment, simulations, time_horizon)\n",
        "\n",
        "    # Calculating the final values across all simulations\n",
        "    final_values = mc_results[:, -1]\n",
        "\n",
        "    # Plot histogram of final portfolio values under this scenario\n",
        "    plt.hist(final_values, bins=50, alpha=0.5, label=f\"Scenario: {scenario}\")\n",
        "\n"
      ],
      "metadata": {
        "id": "e789RmZFFohY",
        "colab": {
          "base_uri": "https://localhost:8080/",
          "height": 617
        },
        "outputId": "42b85a45-fec6-4ed8-ced4-72dcaed2835e"
      },
      "execution_count": null,
      "outputs": [
        {
          "output_type": "display_data",
          "data": {
            "text/plain": [
              "<Figure size 1400x700 with 1 Axes>"
            ],
            "image/png": "[encoded data removed]"
          },
          "metadata": {}
        }
      ]
    },
    {
      "cell_type": "code",
      "source": [
        "plt.title('Portfolio Value Distribution under Different Stress Scenarios')\n",
        "plt.xlabel('Final Portfolio Value')\n",
        "plt.ylabel('Frequency')\n",
        "plt.legend()\n",
        "plt.show()\n"
      ],
      "metadata": {
        "id": "v7rMIK0XFqUe",
        "colab": {
          "base_uri": "https://localhost:8080/",
          "height": 489
        },
        "outputId": "8b1d0c94-6762-4c81-d143-05a1fcce9736"
      },
      "execution_count": null,
      "outputs": [
        {
          "output_type": "stream",
          "name": "stderr",
          "text": [
            "WARNING:matplotlib.legend:No artists with labels found to put in legend.  Note that artists whose label start with an underscore are ignored when legend() is called with no argument.\n"
          ]
        },
        {
          "output_type": "display_data",
          "data": {
            "text/plain": [
              "<Figure size 640x480 with 1 Axes>"
            ],
            "image/png": "[encoded data removed]"
          },
          "metadata": {}
        }
      ]
    },
    {
      "cell_type": "code",
      "source": [
        "!pip install arch\n",
        "import yfinance as yf\n",
        "import numpy as np\n",
        "import pandas as pd\n",
        "import matplotlib.pyplot as plt\n",
        "from arch import arch_model\n",
        "from scipy.stats import genextreme as gev\n",
        "\n"
      ],
      "metadata": {
        "colab": {
          "base_uri": "https://localhost:8080/"
        },
        "id": "nTsEW-wibQF8",
        "outputId": "1f6250bb-a41f-4164-bbc9-4340f13f81d6"
      },
      "execution_count": null,
      "outputs": [
        {
          "output_type": "stream",
          "name": "stdout",
          "text": [
            "Collecting arch\n",
            "  Downloading arch-6.2.0-cp310-cp310-manylinux_2_17_x86_64.manylinux2014_x86_64.whl (981 kB)\n",
            "\u001b[?25l     \u001b[90m━━━━━━━━━━━━━━━━━━━━━━━━━━━━━━━━━━━━━━━━\u001b[0m \u001b[32m0.0/981.7 kB\u001b[0m \u001b[31m?\u001b[0m eta \u001b[36m-:--:--\u001b[0m\r\u001b[2K     \u001b[91m━━━━━━━\u001b[0m\u001b[90m╺\u001b[0m\u001b[90m━━━━━━━━━━━━━━━━━━━━━━━━━━━━━━━━\u001b[0m \u001b[32m174.1/981.7 kB\u001b[0m \u001b[31m5.2 MB/s\u001b[0m eta \u001b[36m0:00:01\u001b[0m\r\u001b[2K     \u001b[91m━━━━━━━━━━━━━━━━━━━━━━━━━\u001b[0m\u001b[90m╺\u001b[0m\u001b[90m━━━━━━━━━━━━━━\u001b[0m \u001b[32m614.4/981.7 kB\u001b[0m \u001b[31m8.9 MB/s\u001b[0m eta \u001b[36m0:00:01\u001b[0m\r\u001b[2K     \u001b[90m━━━━━━━━━━━━━━━━━━━━━━━━━━━━━━━━━━━━━━━━\u001b[0m \u001b[32m981.7/981.7 kB\u001b[0m \u001b[31m9.4 MB/s\u001b[0m eta \u001b[36m0:00:00\u001b[0m\n",
            "\u001b[?25hRequirement already satisfied: numpy>=1.19 in /usr/local/lib/python3.10/dist-packages (from arch) (1.23.5)\n",
            "Requirement already satisfied: scipy>=1.5 in /usr/local/lib/python3.10/dist-packages (from arch) (1.11.3)\n",
            "Requirement already satisfied: pandas>=1.1 in /usr/local/lib/python3.10/dist-packages (from arch) (1.5.3)\n",
            "Requirement already satisfied: statsmodels>=0.12 in /usr/local/lib/python3.10/dist-packages (from arch) (0.14.0)\n",
            "Requirement already satisfied: python-dateutil>=2.8.1 in /usr/local/lib/python3.10/dist-packages (from pandas>=1.1->arch) (2.8.2)\n",
            "Requirement already satisfied: pytz>=2020.1 in /usr/local/lib/python3.10/dist-packages (from pandas>=1.1->arch) (2023.3.post1)\n",
            "Requirement already satisfied: patsy>=0.5.2 in /usr/local/lib/python3.10/dist-packages (from statsmodels>=0.12->arch) (0.5.3)\n",
            "Requirement already satisfied: packaging>=21.3 in /usr/local/lib/python3.10/dist-packages (from statsmodels>=0.12->arch) (23.2)\n",
            "Requirement already satisfied: six in /usr/local/lib/python3.10/dist-packages (from patsy>=0.5.2->statsmodels>=0.12->arch) (1.16.0)\n",
            "Installing collected packages: arch\n",
            "Successfully installed arch-6.2.0\n"
          ]
        }
      ]
    },
    {
      "cell_type": "code",
      "source": [
        "# Fetch historical data\n",
        "tickers = [\"AAPL\", \"MSFT\", \"GOOG\", \"AMZN\"]\n",
        "data = yf.download(tickers, start='2010-01-01')['Adj Close']\n",
        "\n",
        "# Calculate daily returns\n",
        "returns = data.pct_change().dropna()\n",
        "\n"
      ],
      "metadata": {
        "id": "qkOKlARfFrhO",
        "colab": {
          "base_uri": "https://localhost:8080/"
        },
        "outputId": "af6f7ea0-1162-4276-c66d-d51a14720fa0"
      },
      "execution_count": null,
      "outputs": [
        {
          "output_type": "stream",
          "name": "stdout",
          "text": [
            "[*********************100%%**********************]  4 of 4 completed\n"
          ]
        }
      ]
    },
    {
      "cell_type": "code",
      "source": [
        "# Fit a GARCH(1,1) model to the daily returns\n",
        "garch_models = {}\n",
        "for ticker in tickers:\n",
        "    gm = arch_model(returns[ticker], p=1, q=1)\n",
        "    res = gm.fit(update_freq=10, disp='off')\n",
        "    garch_models[ticker] = res\n",
        "\n",
        "# Now, let's simulate future paths\n",
        "simulated_paths = {}\n",
        "days = 252  # One year\n",
        "for ticker, model in garch_models.items():\n",
        "    forecasts = model.forecast(horizon=days)\n",
        "    volatilities = forecasts.variance.iloc[-1]**0.5  # Take square root of variance for volatility\n",
        "    simulated_paths[ticker] = np.random.normal(size=(1000, days)) * volatilities.values\n",
        "\n",
        "# Implement EVT to model the tail of the distribution of extreme losses\n",
        "tail_risks = {}\n",
        "for ticker in tickers:\n",
        "    # Use the negative returns for EVT\n",
        "    negative_returns = -returns[ticker].dropna()\n",
        "    # Fit a GEV model\n",
        "    c, loc, scale = gev.fit(negative_returns)\n",
        "    tail_risks[ticker] = gev(c, loc=loc, scale=scale)\n",
        "\n",
        "# Assume portfolio weights\n",
        "weights = np.array([0.25, 0.25, 0.25, 0.25])\n",
        "\n",
        "# Now perform the stress test simulation\n",
        "portfolio_loss = np.zeros((1000, days))\n",
        "for i in range(1000):\n",
        "    for ticker in tickers:\n",
        "        simulated_returns = simulated_paths[ticker][i, :]\n",
        "        portfolio_loss[i, :] += weights[tickers.index(ticker)] * simulated_returns\n",
        "\n",
        "# We can now apply the tail risk measure to the portfolio loss\n",
        "extreme_losses = gev.rvs(c, loc=loc, scale=scale, size=(1000, days))\n",
        "\n",
        "# Combine the GARCH simulated paths with the extreme loss tail\n",
        "combined_stress_test = portfolio_loss + extreme_losses\n",
        "\n",
        "# Analyze the results\n",
        "plt.hist(combined_stress_test.flatten(), bins=100, alpha=0.75)\n",
        "plt.title(\"Stress Test Distribution with GARCH and EVT\")\n",
        "plt.xlabel(\"Portfolio Loss\")\n",
        "plt.ylabel(\"Frequency\")\n",
        "plt.show()\n"
      ],
      "metadata": {
        "id": "Qur50kU9FttG",
        "colab": {
          "base_uri": "https://localhost:8080/",
          "height": 1000
        },
        "outputId": "113ca467-4de3-4294-bf38-ddf2d4b1cbdf"
      },
      "execution_count": null,
      "outputs": [
        {
          "output_type": "stream",
          "name": "stderr",
          "text": [
            "/usr/local/lib/python3.10/dist-packages/arch/univariate/base.py:310: DataScaleWarning: y is poorly scaled, which may affect convergence of the optimizer when\n",
            "estimating the model parameters. The scale of y is 0.0003178. Parameter\n",
            "estimation work better when this value is between 1 and 1000. The recommended\n",
            "rescaling is 100 * y.\n",
            "\n",
            "This warning can be disabled by either rescaling y before initializing the\n",
            "model or by setting rescale=False.\n",
            "\n",
            "  warnings.warn(\n",
            "/usr/local/lib/python3.10/dist-packages/arch/univariate/base.py:310: DataScaleWarning: y is poorly scaled, which may affect convergence of the optimizer when\n",
            "estimating the model parameters. The scale of y is 0.0002683. Parameter\n",
            "estimation work better when this value is between 1 and 1000. The recommended\n",
            "rescaling is 100 * y.\n",
            "\n",
            "This warning can be disabled by either rescaling y before initializing the\n",
            "model or by setting rescale=False.\n",
            "\n",
            "  warnings.warn(\n",
            "/usr/local/lib/python3.10/dist-packages/arch/univariate/base.py:310: DataScaleWarning: y is poorly scaled, which may affect convergence of the optimizer when\n",
            "estimating the model parameters. The scale of y is 0.0002971. Parameter\n",
            "estimation work better when this value is between 1 and 1000. The recommended\n",
            "rescaling is 100 * y.\n",
            "\n",
            "This warning can be disabled by either rescaling y before initializing the\n",
            "model or by setting rescale=False.\n",
            "\n",
            "  warnings.warn(\n",
            "/usr/local/lib/python3.10/dist-packages/arch/univariate/base.py:310: DataScaleWarning: y is poorly scaled, which may affect convergence of the optimizer when\n",
            "estimating the model parameters. The scale of y is 0.0004356. Parameter\n",
            "estimation work better when this value is between 1 and 1000. The recommended\n",
            "rescaling is 100 * y.\n",
            "\n",
            "This warning can be disabled by either rescaling y before initializing the\n",
            "model or by setting rescale=False.\n",
            "\n",
            "  warnings.warn(\n"
          ]
        },
        {
          "output_type": "display_data",
          "data": {
            "text/plain": [
              "<Figure size 640x480 with 1 Axes>"
            ],
            "image/png": "[encoded data removed]"
          },
          "metadata": {}
        }
      ]
    },
    {
      "cell_type": "code",
      "source": [
        "import numpy as np\n",
        "import pandas as pd\n",
        "from scipy.stats import norm\n",
        "import yfinance as yf\n",
        "\n",
        "# Download historical data for portfolio assets\n",
        "tickers = ['AAPL', 'MSFT', 'GOOG', 'AMZN']\n",
        "data = yf.download(tickers, start=\"2022-01-01\", end=\"2023-01-01\")['Adj Close']\n",
        "\n"
      ],
      "metadata": {
        "colab": {
          "base_uri": "https://localhost:8080/"
        },
        "id": "XIYzRZa1b15q",
        "outputId": "02db7494-0198-4708-ce18-2a4f6abfcd49"
      },
      "execution_count": null,
      "outputs": [
        {
          "output_type": "stream",
          "name": "stdout",
          "text": [
            "[*********************100%%**********************]  4 of 4 completed\n"
          ]
        }
      ]
    },
    {
      "cell_type": "code",
      "source": [
        "# Assume equal weights for simplicity\n",
        "weights = np.array([0.25, 0.25, 0.25, 0.25])\n",
        "\n",
        "# Calculate daily returns\n",
        "returns = data.pct_change().dropna()\n",
        "\n"
      ],
      "metadata": {
        "id": "8eDa7OXTFwHt"
      },
      "execution_count": null,
      "outputs": []
    },
    {
      "cell_type": "code",
      "source": [
        "# Calculate the portfolio's mean and standard deviation of returns\n",
        "port_mean = np.dot(returns.mean(), weights)\n",
        "port_std = np.sqrt(np.dot(weights.T, np.dot(returns.cov()*252, weights)))\n",
        "\n"
      ],
      "metadata": {
        "id": "bT5M3HFZFx09"
      },
      "execution_count": null,
      "outputs": []
    },
    {
      "cell_type": "code",
      "source": [
        "# Calculate normal VaR at 95% confidence level\n",
        "alpha = 0.95\n",
        "VaR_95 = norm.ppf(1-alpha, port_mean, port_std)\n",
        "\n"
      ],
      "metadata": {
        "id": "AlM5q9T8Fzna"
      },
      "execution_count": null,
      "outputs": []
    },
    {
      "cell_type": "code",
      "source": [
        "# Assume a liquidity horizon of 5 days and an adjustment factor\n",
        "liquidity_horizon = 5\n",
        "adjustment_factor = 0.2  # This factor would depend on market impact models\n",
        "\n"
      ],
      "metadata": {
        "id": "8ZDOpvXsF1m8"
      },
      "execution_count": null,
      "outputs": []
    },
    {
      "cell_type": "code",
      "source": [
        "# Calculate the LVaR\n",
        "LVaR = VaR_95 * np.sqrt(liquidity_horizon) * (1 + adjustment_factor)\n",
        "\n",
        "print(f\"Normal VaR at 95% confidence level: {VaR_95}\")\n",
        "print(f\"Liquidity-Adjusted VaR (LVaR) at 95% confidence level: {LVaR}\")\n"
      ],
      "metadata": {
        "id": "4gCx8IyHF2rI",
        "colab": {
          "base_uri": "https://localhost:8080/"
        },
        "outputId": "1caee408-7edc-42ca-f080-f500ad43d04c"
      },
      "execution_count": null,
      "outputs": [
        {
          "output_type": "stream",
          "name": "stdout",
          "text": [
            "Normal VaR at 95% confidence level: -0.5985417547852849\n",
            "Liquidity-Adjusted VaR (LVaR) at 95% confidence level: -1.6060560612862886\n"
          ]
        }
      ]
    },
    {
      "cell_type": "markdown",
      "source": [
        "1. **Machine Learning for Predictive Risk Management**\n",
        "Predictive Analytics: Utilize machine learning models to predict market volatility, correlations, or other risk metrics, such as using LSTM networks to forecast time-series data.\n",
        "Feature Engineering: Incorporate macroeconomic indicators, market sentiment from news articles or financial reports, and social media analytics to capture a broad range of factors affecting the market.\n",
        "2. **Multi-Factor Risk Models**\n",
        "Barra Risk Factor Analysis: Implement a multi-factor risk model like the Barra model, which includes factors like style, sector, and country to estimate risk more accurately.\n",
        "Custom Risk Factors: Develop proprietary risk factors relevant to your strategy, such as factors derived from order book dynamics or high-frequency trade data.\n",
        "3. **Advanced Portfolio Construction Techniques**\n",
        "Black-Litterman Model: Integrate investor views with market equilibrium in the portfolio construction process.\n",
        "Mean-CVaR Optimization: Replace mean-variance optimization with mean-Conditional Value at Risk optimization to focus on tail risks.\n",
        "Non-Convex Optimization: Use non-convex optimization for portfolio construction, which can capture more complex risk-return profiles.\n",
        "4. **High-Frequency Risk Management**\n",
        "Market Microstructure: Analyze the market microstructure for liquidity risk, incorporating the order book's state and transaction costs in risk assessment.\n",
        "Intraday Risk Metrics: Calculate intraday Value at Risk (VaR) and Expected Shortfall using high-frequency data.\n",
        "5. **Advanced Derivatives Pricing Models**\n",
        "Monte Carlo Simulation for Path-Dependent Options: Use Monte Carlo simulations for pricing complex path-dependent options like Asian or Barrier options.\n",
        "Local Volatility Models: Use local volatility models for a more accurate estimation of the option prices in the presence of a smile or skew.\n",
        "6. **Systemic Risk Measurement**\n",
        "Network Analysis: Utilize network theory to understand and quantify systemic risk in financial networks.\n",
        "CoVaR (Conditional Value at Risk): Estimate the risk of an asset conditional on the market being in a stressed state.\n",
        "7. **Liquidity-Adjusted Risk Measures**\n",
        "Incorporate Illiquidity: Adjust VaR and other risk measures to account for liquidity, potentially using measures like the Amihud illiquidity ratio or turnover.\n",
        "Dynamic Liquidity Modelling: Model how liquidity changes over time and under stress, possibly with a multi-liquidity factor model.\n",
        "8. **Advanced Stress Testing**\n",
        "Reverse Stress Testing: Identify scenarios that could lead to a portfolio's downfall and then determine the likelihood of those scenarios.\n",
        "Stochastic Scenario Generation: Use stochastic processes to generate realistic adverse scenarios, rather than relying on historical scenarios.\n",
        "9. **Comprehensive Backtesting Framework**\n",
        "Regime-Switching Models: Test strategies under different market regimes (e.g., bull vs. bear markets).\n",
        "Transaction Cost Analysis: Incorporate sophisticated models for slippage and market impact, especially for large trades.\n"
      ],
      "metadata": {
        "id": "Yomab_tkt8-J"
      }
    },
    {
      "cell_type": "code",
      "source": [
        "import yfinance as yf\n",
        "import time\n",
        "from datetime import datetime\n",
        "\n",
        "class StopLossStrategy:\n",
        "    def __init__(self, ticker, purchase_price, stop_loss_threshold):\n",
        "        self.ticker = ticker\n",
        "        self.purchase_price = purchase_price\n",
        "        self.stop_loss_threshold = stop_loss_threshold\n",
        "        self.peak_price = purchase_price\n",
        "        self.stop_loss_price = self.purchase_price * (1 - stop_loss_threshold)\n",
        "        self.is_position_open = True\n",
        "\n",
        "    def update_peak_price(self, current_price):\n",
        "        if current_price > self.peak_price:\n",
        "            self.peak_price = current_price\n",
        "            self.update_stop_loss_price()\n",
        "\n",
        "    def update_stop_loss_price(self):\n",
        "        self.stop_loss_price = self.peak_price * (1 - self.stop_loss_threshold)\n",
        "\n",
        "    def check_price_and_sell(self, current_price):\n",
        "        if current_price <= self.stop_loss_price:\n",
        "            self.execute_sell(current_price)\n",
        "            self.is_position_open = False\n",
        "\n",
        "    def execute_sell(self, current_price):\n",
        "        # Here you would place a sell order with your broker\n",
        "        print(f\"[{datetime.now()}] Stop loss triggered. Sell at: {current_price:.2f}\")\n",
        "\n",
        "    def monitor_prices(self):\n",
        "        # This function simulates real-time price monitoring\n",
        "        while self.is_position_open:\n",
        "            # Fetch the latest price\n",
        "            current_price = yf.download(self.ticker, period=\"1m\", interval=\"1m\")['Adj Close'][-1]\n",
        "\n",
        "            self.update_peak_price(current_price)\n",
        "            self.check_price_and_sell(current_price)\n",
        "\n",
        "            # Simulate real-time monitoring by waiting for a minute\n",
        "            time.sleep(60)\n",
        "\n",
        "# Usage\n",
        "ticker = 'AAPL'\n",
        "purchase_price = 150.00  # Assume a purchase price\n",
        "stop_loss_threshold = 0.05  # 5% trailing stop-loss\n",
        "\n",
        "# Instantiate the StopLossStrategy\n",
        "strategy = StopLossStrategy(ticker, purchase_price, stop_loss_threshold)\n",
        "\n",
        "# Start monitoring prices\n",
        "strategy.monitor_prices()\n"
      ],
      "metadata": {
        "id": "Zk9wZ8KSciVv",
        "colab": {
          "base_uri": "https://localhost:8080/",
          "height": 435
        },
        "outputId": "e9b49505-785c-4d95-eb35-99e613554a03"
      },
      "execution_count": null,
      "outputs": [
        {
          "output_type": "stream",
          "name": "stdout",
          "text": [
            "[*********************100%%**********************]  1 of 1 completed\n",
            "[*********************100%%**********************]  1 of 1 completed\n",
            "[*********************100%%**********************]  1 of 1 completed\n",
            "[*********************100%%**********************]  1 of 1 completed\n",
            "[*********************100%%**********************]  1 of 1 completed\n",
            "[*********************100%%**********************]  1 of 1 completed\n"
          ]
        },
        {
          "output_type": "error",
          "ename": "KeyboardInterrupt",
          "evalue": "ignored",
          "traceback": [
            "\u001b[0;31m---------------------------------------------------------------------------\u001b[0m",
            "\u001b[0;31mKeyboardInterrupt\u001b[0m                         Traceback (most recent call last)",
            "\u001b[0;32m<ipython-input-73-0613d4d917b2>\u001b[0m in \u001b[0;36m<cell line: 52>\u001b[0;34m()\u001b[0m\n\u001b[1;32m     50\u001b[0m \u001b[0;34m\u001b[0m\u001b[0m\n\u001b[1;32m     51\u001b[0m \u001b[0;31m# Start monitoring prices\u001b[0m\u001b[0;34m\u001b[0m\u001b[0;34m\u001b[0m\u001b[0m\n\u001b[0;32m---> 52\u001b[0;31m \u001b[0mstrategy\u001b[0m\u001b[0;34m.\u001b[0m\u001b[0mmonitor_prices\u001b[0m\u001b[0;34m(\u001b[0m\u001b[0;34m)\u001b[0m\u001b[0;34m\u001b[0m\u001b[0;34m\u001b[0m\u001b[0m\n\u001b[0m",
            "\u001b[0;32m<ipython-input-73-0613d4d917b2>\u001b[0m in \u001b[0;36mmonitor_prices\u001b[0;34m(self)\u001b[0m\n\u001b[1;32m     39\u001b[0m \u001b[0;34m\u001b[0m\u001b[0m\n\u001b[1;32m     40\u001b[0m             \u001b[0;31m# Simulate real-time monitoring by waiting for a minute\u001b[0m\u001b[0;34m\u001b[0m\u001b[0;34m\u001b[0m\u001b[0m\n\u001b[0;32m---> 41\u001b[0;31m             \u001b[0mtime\u001b[0m\u001b[0;34m.\u001b[0m\u001b[0msleep\u001b[0m\u001b[0;34m(\u001b[0m\u001b[0;36m60\u001b[0m\u001b[0;34m)\u001b[0m\u001b[0;34m\u001b[0m\u001b[0;34m\u001b[0m\u001b[0m\n\u001b[0m\u001b[1;32m     42\u001b[0m \u001b[0;34m\u001b[0m\u001b[0m\n\u001b[1;32m     43\u001b[0m \u001b[0;31m# Usage\u001b[0m\u001b[0;34m\u001b[0m\u001b[0;34m\u001b[0m\u001b[0m\n",
            "\u001b[0;31mKeyboardInterrupt\u001b[0m: "
          ]
        }
      ]
    },
    {
      "cell_type": "markdown",
      "source": [
        "# Portfolio Rebalancing"
      ],
      "metadata": {
        "id": "e7AWVaVhQm-M"
      }
    },
    {
      "cell_type": "markdown",
      "source": [
        "* Get Latest Prices: Fetches the latest trading prices of the portfolio assets.\n",
        "* Calculate Portfolio Value: Computes the current total value of the portfolio and the value of each asset.\n",
        "* Rebalance Portfolio: Determines how many shares of each asset should be bought or sold to achieve the target allocation.\n",
        "* Execution: The script runs these functions and prints out the necessary rebalancing trades.\n",
        "* Transaction Costs: Incorporate transaction costs into the rebalancing calculations.\n",
        "* Tax Considerations: Add a simplistic model for tax implications due to capital gains or losses.\n",
        "* Market Condition Adjustments: Introduce conditional logic to modify the target allocations based on market conditions.\n",
        "* Real-time Data Integration: Simulate using a more realistic data source and setup.\n",
        "* Asset Correlation Check: Adjust rebalancing based on the current correlation matrix of the assets."
      ],
      "metadata": {
        "id": "MJwjxZm9QqsY"
      }
    },
    {
      "cell_type": "code",
      "source": [
        "import yfinance as yf\n",
        "import pandas as pd\n",
        "import numpy as np\n",
        "\n"
      ],
      "metadata": {
        "id": "EEUiFo4bxeX8",
        "colab": {
          "base_uri": "https://localhost:8080/"
        },
        "outputId": "57f500e7-2013-4d15-da8c-a9ed57d2815d"
      },
      "execution_count": null,
      "outputs": [
        {
          "output_type": "stream",
          "name": "stdout",
          "text": [
            "[*********************100%%**********************]  4 of 4 completed\n",
            "Advanced Rebalancing Trades (Buy/Sell in Shares):\n",
            " AAPL     4.42\n",
            "AMZN    62.76\n",
            "GOOG    44.92\n",
            "MSFT   -44.81\n",
            "dtype: float64\n"
          ]
        }
      ]
    },
    {
      "cell_type": "code",
      "source": [
        "# Define the portfolio stocks, target allocations, and current holdings\n",
        "portfolio = {'AAPL': 0.30, 'MSFT': 0.20, 'GOOG': 0.20, 'AMZN': 0.30}\n",
        "current_holdings = {'AAPL': 100, 'MSFT': 80, 'GOOG': 50, 'AMZN': 70}\n",
        "transaction_cost_rate = 0.001  # 0.1% transaction cost\n",
        "capital_gains_tax_rate = 0.15  # 15% capital gains tax\n",
        "\n"
      ],
      "metadata": {
        "id": "pEcrJPlARkCh"
      },
      "execution_count": null,
      "outputs": []
    },
    {
      "cell_type": "code",
      "source": [
        "# Fetch historical data\n",
        "def get_historical_data(tickers, period='1y'):\n",
        "    return yf.download(tickers, period=period)['Adj Close']\n",
        "\n"
      ],
      "metadata": {
        "id": "tSvhZPd9Rqud"
      },
      "execution_count": null,
      "outputs": []
    },
    {
      "cell_type": "code",
      "source": [
        "# Calculate capital gains tax\n",
        "def calculate_tax(sell_trades, purchase_prices, current_prices):\n",
        "    gains = (current_prices - purchase_prices) * sell_trades\n",
        "    tax = gains.apply(lambda x: x * capital_gains_tax_rate if x > 0 else 0)\n",
        "    return tax\n",
        "\n"
      ],
      "metadata": {
        "id": "swYLDOEHRtc1"
      },
      "execution_count": null,
      "outputs": []
    },
    {
      "cell_type": "code",
      "source": [
        "# Modify allocations based on market conditions (example logic)\n",
        "def adjust_allocations_based_on_market(data, target_alloc):\n",
        "    # Implement your logic here. E.g., reduce allocation to stocks if recent volatility is high.\n",
        "    return target_alloc\n",
        "\n"
      ],
      "metadata": {
        "id": "E_WZZx3_RvDy"
      },
      "execution_count": null,
      "outputs": []
    },
    {
      "cell_type": "code",
      "source": [
        "# Rebalance portfolio\n",
        "def rebalance_portfolio(data, holdings, target_alloc, transaction_costs):\n",
        "    current_values = data.iloc[-1] * pd.Series(holdings)\n",
        "    portfolio_value = current_values.sum()\n",
        "    adjusted_alloc = adjust_allocations_based_on_market(data, target_alloc)\n",
        "    target_values = portfolio_value * pd.Series(adjusted_alloc)\n",
        "    diff = target_values - current_values\n",
        "\n",
        "    # Calculate rebalance trades considering transaction costs\n",
        "    rebalance_trades = diff / data.iloc[-1]\n",
        "    rebalance_trades -= rebalance_trades * transaction_costs  # Deduct transaction costs\n",
        "\n",
        "    return rebalance_trades\n",
        "\n"
      ],
      "metadata": {
        "id": "x6bJRK9NRwID"
      },
      "execution_count": null,
      "outputs": []
    },
    {
      "cell_type": "code",
      "source": [
        "# Main execution\n",
        "if __name__ == \"__main__\":\n",
        "    tickers = list(portfolio.keys())\n",
        "    historical_data = get_historical_data(tickers)\n",
        "    purchase_prices = historical_data.iloc[0]  # Simplified assumption\n",
        "\n",
        "    transaction_costs = transaction_cost_rate\n",
        "    initial_rebalance_actions = rebalance_portfolio(\n",
        "        historical_data, current_holdings, portfolio, transaction_costs\n",
        "    )\n",
        "\n",
        "    sell_trades = initial_rebalance_actions.clip(lower=0)  # Assuming sell trades are positive\n",
        "    tax_implications = calculate_tax(sell_trades, purchase_prices, historical_data.iloc[-1])\n",
        "\n",
        "    # Adjust the initial rebalance actions for tax implications\n",
        "    rebalance_actions = initial_rebalance_actions - (tax_implications / historical_data.iloc[-1])\n",
        "\n",
        "    print(\"Advanced Rebalancing Trades (Buy/Sell in Shares):\\n\", rebalance_actions.round(2))\n"
      ],
      "metadata": {
        "id": "5iRO9nWzRzk9"
      },
      "execution_count": null,
      "outputs": []
    },
    {
      "cell_type": "code",
      "source": [],
      "metadata": {
        "id": "_n5VZn3TQ_qi"
      },
      "execution_count": null,
      "outputs": []
    }
  ]
}